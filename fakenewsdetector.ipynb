{
  "cells": [
    {
      "cell_type": "markdown",
      "metadata": {
        "id": "view-in-github",
        "colab_type": "text"
      },
      "source": [
        "<a href=\"https://colab.research.google.com/github/anna-nm/fakenewsdetection/blob/main/fakenewsdetector.ipynb\" target=\"_parent\"><img src=\"https://colab.research.google.com/assets/colab-badge.svg\" alt=\"Open In Colab\"/></a>"
      ]
    },
    {
      "cell_type": "markdown",
      "metadata": {
        "id": "cbQmVjwrFTnK"
      },
      "source": [
        "# DATASET\n",
        "\n"
      ]
    },
    {
      "cell_type": "code",
      "execution_count": null,
      "metadata": {
        "id": "54vgZQHjEUAY"
      },
      "outputs": [],
      "source": [
        "#Goal of the project, why important\n",
        "#https://www.kaggle.com/datasets/algord/fake-news/data\n",
        "\n",
        "# New dataset\n",
        "#https://www.kaggle.com/datasets/bhavikjikadara/fake-news-detection/data"
      ]
    },
    {
      "cell_type": "markdown",
      "metadata": {
        "id": "a2C2lLuz0cmF"
      },
      "source": [
        "Checkpoint 2:\n",
        "- individual words being good indicators\n",
        "- sequence models (transformer and RNNs)\n",
        "- SVM vs Naives Bayes - try some more scikit models\n",
        "- individual words are important! (frequency, not word meaning)\n",
        "- word count visualizations\n",
        "- Notebook 3.2 in DIDA 310 (relative word count)- for Naive Bayes and SVM\n",
        "- build an ensemble model?\n",
        "- Hugging Face, Chpt 2 FastAI txtbook or scikit-learn\n"
      ]
    },
    {
      "cell_type": "markdown",
      "metadata": {
        "id": "WNoPirGJJKMA"
      },
      "source": [
        "Run your own key and password"
      ]
    },
    {
      "cell_type": "code",
      "execution_count": 52,
      "metadata": {
        "colab": {
          "base_uri": "https://localhost:8080/"
        },
        "id": "MyIQaqd_HpIv",
        "outputId": "301527ba-5f1d-4a6e-9a1c-d02bc546e493"
      },
      "outputs": [
        {
          "output_type": "stream",
          "name": "stdout",
          "text": [
            "env: KAGGLE_USERNAME=annanguyeen\n",
            "env: KAGGLE_KEY=3eeaefc1b64f8f16063ed8e81910881c\n"
          ]
        }
      ],
      "source": [
        "# ANNA\n",
        "%env KAGGLE_USERNAME=annanguyeen\n",
        "%env KAGGLE_KEY=3eeaefc1b64f8f16063ed8e81910881c"
      ]
    },
    {
      "cell_type": "code",
      "execution_count": null,
      "metadata": {
        "id": "i-DDUqfDH4xo"
      },
      "outputs": [],
      "source": [
        "# AIDAN\n",
        "%env KAGGLE_USERNAME=aidan123456\n",
        "%env KAGGLE_KEY=c14b60ef82427afa1cdf686430f9dccc"
      ]
    },
    {
      "cell_type": "code",
      "execution_count": null,
      "metadata": {
        "colab": {
          "base_uri": "https://localhost:8080/"
        },
        "id": "8kgT19MCIelG",
        "outputId": "dc4fdce8-aa6d-4242-97d2-95d57ae37864"
      },
      "outputs": [
        {
          "name": "stdout",
          "output_type": "stream",
          "text": [
            "env: KAGGLE_USERNAME=aieshaayub\n",
            "env: KAGGLE_KEY=9e44141b18d723294901dc1ce3792b80\n"
          ]
        }
      ],
      "source": [
        "#Aiesha\n",
        "%env KAGGLE_USERNAME= aieshaayub\n",
        "%env KAGGLE_KEY= 9e44141b18d723294901dc1ce3792b80"
      ]
    },
    {
      "cell_type": "code",
      "execution_count": null,
      "metadata": {
        "id": "aJM3dLhmIrZH"
      },
      "outputs": [],
      "source": [
        "#Jialene\n",
        "%env KAGGLE_USERNAME=jialenewestcott\n",
        "%env KAGGLE_KEY=74e80c63ef591fc491da937f7a7d62fd"
      ]
    },
    {
      "cell_type": "markdown",
      "metadata": {
        "id": "XOUp-5glJSEe"
      },
      "source": [
        "Download the dataset from Kaggle"
      ]
    },
    {
      "cell_type": "code",
      "execution_count": 53,
      "metadata": {
        "colab": {
          "base_uri": "https://localhost:8080/"
        },
        "id": "VoJAOAjYnEt5",
        "outputId": "9e99fcbe-497b-4326-fc8d-2064b1a14fa7"
      },
      "outputs": [
        {
          "output_type": "stream",
          "name": "stdout",
          "text": [
            "fake-news-detection.zip: Skipping, found more recently modified local copy (use --force to force download)\n",
            "Archive:  fake-news-detection.zip\n",
            "replace fake.csv? [y]es, [n]o, [A]ll, [N]one, [r]ename: N\n"
          ]
        }
      ],
      "source": [
        "#New dataset\n",
        "!kaggle datasets download -d bhavikjikadara/fake-news-detection\n",
        "!unzip fake-news-detection.zip"
      ]
    },
    {
      "cell_type": "code",
      "execution_count": null,
      "metadata": {
        "colab": {
          "base_uri": "https://localhost:8080/"
        },
        "id": "TJ1SvzeBIQwZ",
        "outputId": "6a06b0af-d480-4ba1-8735-89e126e1d8dd"
      },
      "outputs": [
        {
          "name": "stdout",
          "output_type": "stream",
          "text": [
            "Downloading fake-news.zip to /content\n",
            " 60% 1.00M/1.68M [00:00<00:00, 2.01MB/s]\n",
            "100% 1.68M/1.68M [00:00<00:00, 3.00MB/s]\n",
            "Archive:  fake-news.zip\n",
            "  inflating: FakeNewsNet.csv         \n"
          ]
        }
      ],
      "source": [
        "# !kaggle datasets download -d algord/fake-news\n",
        "# !unzip fake-news.zip"
      ]
    },
    {
      "cell_type": "markdown",
      "metadata": {
        "id": "8qq7k7YRFe65"
      },
      "source": [
        "#DATA CLEANING"
      ]
    },
    {
      "cell_type": "markdown",
      "metadata": {
        "id": "O0WJwV8kJHly"
      },
      "source": [
        "Load in the libraries"
      ]
    },
    {
      "cell_type": "code",
      "execution_count": 2,
      "metadata": {
        "id": "livfUX-ZFh_n"
      },
      "outputs": [],
      "source": [
        "from fastai.vision.all import *\n",
        "import pandas as pd\n",
        "from fastai.tabular.all import *\n",
        "from fastai.collab import *\n",
        "import torch\n",
        "import numpy as np\n",
        "import matplotlib.pyplot as plt\n",
        "from sklearn.naive_bayes import MultinomialNB\n",
        "from sklearn.feature_extraction.text import *\n",
        "from sklearn.model_selection import train_test_split\n",
        "from sklearn.linear_model import SGDClassifier\n",
        "from sklearn import metrics"
      ]
    },
    {
      "cell_type": "markdown",
      "metadata": {
        "id": "1a6mnms3tOdd"
      },
      "source": [
        "Read in the datasets as dataframes, add a \"Label\" column assigning 0 as Fake news, 1 as Real news"
      ]
    },
    {
      "cell_type": "code",
      "source": [
        "real = pd.read_csv(\"/content/true.csv\")\n",
        "real['label'] = 1"
      ],
      "metadata": {
        "id": "IF7m0QXef8aL"
      },
      "execution_count": 3,
      "outputs": []
    },
    {
      "cell_type": "code",
      "execution_count": 4,
      "metadata": {
        "colab": {
          "base_uri": "https://localhost:8080/",
          "height": 320
        },
        "id": "53qHgOm_nTVq",
        "outputId": "080e58c2-cac8-47c0-aabc-ebc4c39e23b8"
      },
      "outputs": [
        {
          "output_type": "execute_result",
          "data": {
            "text/plain": [
              "                                                                             title  \\\n",
              "0   Donald Trump Sends Out Embarrassing New Year’s Eve Message; This is Disturbing   \n",
              "1             Drunk Bragging Trump Staffer Started Russian Collusion Investigation   \n",
              "\n",
              "                                                                                                                                                                                                                                                                                                                                                                                                                                                                                                                                                                                                                      text  \\\n",
              "0  Donald Trump just couldn t wish all Americans a Happy New Year and leave it at that. Instead, he had to give a shout out to his enemies, haters and  the very dishonest fake news media.  The former reality show star had just one job to do and he couldn t do it. As our Country rapidly grows stronger and smarter, I want to wish all of my friends, supporters, enemies, haters, and even the very dishonest Fake News Media, a Happy and Healthy New Year,  President Angry Pants tweeted.  2018 will be a great year for America! As our Country rapidly grows stronger and smarter, I want to wish all of m...   \n",
              "1  House Intelligence Committee Chairman Devin Nunes is going to have a bad day. He s been under the assumption, like many of us, that the Christopher Steele-dossier was what prompted the Russia investigation so he s been lashing out at the Department of Justice and the FBI in order to protect Trump. As it happens, the dossier is not what started the investigation, according to documents obtained by the New York Times.Former Trump campaign adviser George Papadopoulos was drunk in a wine bar when he revealed knowledge of Russian opposition research on Hillary Clinton.On top of that, Papadopoul...   \n",
              "\n",
              "  subject               date  label  \n",
              "0    News  December 31, 2017      0  \n",
              "1    News  December 31, 2017      0  "
            ],
            "text/html": [
              "\n",
              "  <div id=\"df-8c6892a3-c35b-4ed0-a896-76e9f4bc0e1f\" class=\"colab-df-container\">\n",
              "    <div>\n",
              "<style scoped>\n",
              "    .dataframe tbody tr th:only-of-type {\n",
              "        vertical-align: middle;\n",
              "    }\n",
              "\n",
              "    .dataframe tbody tr th {\n",
              "        vertical-align: top;\n",
              "    }\n",
              "\n",
              "    .dataframe thead th {\n",
              "        text-align: right;\n",
              "    }\n",
              "</style>\n",
              "<table border=\"1\" class=\"dataframe\">\n",
              "  <thead>\n",
              "    <tr style=\"text-align: right;\">\n",
              "      <th></th>\n",
              "      <th>title</th>\n",
              "      <th>text</th>\n",
              "      <th>subject</th>\n",
              "      <th>date</th>\n",
              "      <th>label</th>\n",
              "    </tr>\n",
              "  </thead>\n",
              "  <tbody>\n",
              "    <tr>\n",
              "      <th>0</th>\n",
              "      <td>Donald Trump Sends Out Embarrassing New Year’s Eve Message; This is Disturbing</td>\n",
              "      <td>Donald Trump just couldn t wish all Americans a Happy New Year and leave it at that. Instead, he had to give a shout out to his enemies, haters and  the very dishonest fake news media.  The former reality show star had just one job to do and he couldn t do it. As our Country rapidly grows stronger and smarter, I want to wish all of my friends, supporters, enemies, haters, and even the very dishonest Fake News Media, a Happy and Healthy New Year,  President Angry Pants tweeted.  2018 will be a great year for America! As our Country rapidly grows stronger and smarter, I want to wish all of m...</td>\n",
              "      <td>News</td>\n",
              "      <td>December 31, 2017</td>\n",
              "      <td>0</td>\n",
              "    </tr>\n",
              "    <tr>\n",
              "      <th>1</th>\n",
              "      <td>Drunk Bragging Trump Staffer Started Russian Collusion Investigation</td>\n",
              "      <td>House Intelligence Committee Chairman Devin Nunes is going to have a bad day. He s been under the assumption, like many of us, that the Christopher Steele-dossier was what prompted the Russia investigation so he s been lashing out at the Department of Justice and the FBI in order to protect Trump. As it happens, the dossier is not what started the investigation, according to documents obtained by the New York Times.Former Trump campaign adviser George Papadopoulos was drunk in a wine bar when he revealed knowledge of Russian opposition research on Hillary Clinton.On top of that, Papadopoul...</td>\n",
              "      <td>News</td>\n",
              "      <td>December 31, 2017</td>\n",
              "      <td>0</td>\n",
              "    </tr>\n",
              "  </tbody>\n",
              "</table>\n",
              "</div>\n",
              "    <div class=\"colab-df-buttons\">\n",
              "\n",
              "  <div class=\"colab-df-container\">\n",
              "    <button class=\"colab-df-convert\" onclick=\"convertToInteractive('df-8c6892a3-c35b-4ed0-a896-76e9f4bc0e1f')\"\n",
              "            title=\"Convert this dataframe to an interactive table.\"\n",
              "            style=\"display:none;\">\n",
              "\n",
              "  <svg xmlns=\"http://www.w3.org/2000/svg\" height=\"24px\" viewBox=\"0 -960 960 960\">\n",
              "    <path d=\"M120-120v-720h720v720H120Zm60-500h600v-160H180v160Zm220 220h160v-160H400v160Zm0 220h160v-160H400v160ZM180-400h160v-160H180v160Zm440 0h160v-160H620v160ZM180-180h160v-160H180v160Zm440 0h160v-160H620v160Z\"/>\n",
              "  </svg>\n",
              "    </button>\n",
              "\n",
              "  <style>\n",
              "    .colab-df-container {\n",
              "      display:flex;\n",
              "      gap: 12px;\n",
              "    }\n",
              "\n",
              "    .colab-df-convert {\n",
              "      background-color: #E8F0FE;\n",
              "      border: none;\n",
              "      border-radius: 50%;\n",
              "      cursor: pointer;\n",
              "      display: none;\n",
              "      fill: #1967D2;\n",
              "      height: 32px;\n",
              "      padding: 0 0 0 0;\n",
              "      width: 32px;\n",
              "    }\n",
              "\n",
              "    .colab-df-convert:hover {\n",
              "      background-color: #E2EBFA;\n",
              "      box-shadow: 0px 1px 2px rgba(60, 64, 67, 0.3), 0px 1px 3px 1px rgba(60, 64, 67, 0.15);\n",
              "      fill: #174EA6;\n",
              "    }\n",
              "\n",
              "    .colab-df-buttons div {\n",
              "      margin-bottom: 4px;\n",
              "    }\n",
              "\n",
              "    [theme=dark] .colab-df-convert {\n",
              "      background-color: #3B4455;\n",
              "      fill: #D2E3FC;\n",
              "    }\n",
              "\n",
              "    [theme=dark] .colab-df-convert:hover {\n",
              "      background-color: #434B5C;\n",
              "      box-shadow: 0px 1px 3px 1px rgba(0, 0, 0, 0.15);\n",
              "      filter: drop-shadow(0px 1px 2px rgba(0, 0, 0, 0.3));\n",
              "      fill: #FFFFFF;\n",
              "    }\n",
              "  </style>\n",
              "\n",
              "    <script>\n",
              "      const buttonEl =\n",
              "        document.querySelector('#df-8c6892a3-c35b-4ed0-a896-76e9f4bc0e1f button.colab-df-convert');\n",
              "      buttonEl.style.display =\n",
              "        google.colab.kernel.accessAllowed ? 'block' : 'none';\n",
              "\n",
              "      async function convertToInteractive(key) {\n",
              "        const element = document.querySelector('#df-8c6892a3-c35b-4ed0-a896-76e9f4bc0e1f');\n",
              "        const dataTable =\n",
              "          await google.colab.kernel.invokeFunction('convertToInteractive',\n",
              "                                                    [key], {});\n",
              "        if (!dataTable) return;\n",
              "\n",
              "        const docLinkHtml = 'Like what you see? Visit the ' +\n",
              "          '<a target=\"_blank\" href=https://colab.research.google.com/notebooks/data_table.ipynb>data table notebook</a>'\n",
              "          + ' to learn more about interactive tables.';\n",
              "        element.innerHTML = '';\n",
              "        dataTable['output_type'] = 'display_data';\n",
              "        await google.colab.output.renderOutput(dataTable, element);\n",
              "        const docLink = document.createElement('div');\n",
              "        docLink.innerHTML = docLinkHtml;\n",
              "        element.appendChild(docLink);\n",
              "      }\n",
              "    </script>\n",
              "  </div>\n",
              "\n",
              "\n",
              "<div id=\"df-74acfe12-49cb-46e7-b683-932ebb9c35eb\">\n",
              "  <button class=\"colab-df-quickchart\" onclick=\"quickchart('df-74acfe12-49cb-46e7-b683-932ebb9c35eb')\"\n",
              "            title=\"Suggest charts\"\n",
              "            style=\"display:none;\">\n",
              "\n",
              "<svg xmlns=\"http://www.w3.org/2000/svg\" height=\"24px\"viewBox=\"0 0 24 24\"\n",
              "     width=\"24px\">\n",
              "    <g>\n",
              "        <path d=\"M19 3H5c-1.1 0-2 .9-2 2v14c0 1.1.9 2 2 2h14c1.1 0 2-.9 2-2V5c0-1.1-.9-2-2-2zM9 17H7v-7h2v7zm4 0h-2V7h2v10zm4 0h-2v-4h2v4z\"/>\n",
              "    </g>\n",
              "</svg>\n",
              "  </button>\n",
              "\n",
              "<style>\n",
              "  .colab-df-quickchart {\n",
              "      --bg-color: #E8F0FE;\n",
              "      --fill-color: #1967D2;\n",
              "      --hover-bg-color: #E2EBFA;\n",
              "      --hover-fill-color: #174EA6;\n",
              "      --disabled-fill-color: #AAA;\n",
              "      --disabled-bg-color: #DDD;\n",
              "  }\n",
              "\n",
              "  [theme=dark] .colab-df-quickchart {\n",
              "      --bg-color: #3B4455;\n",
              "      --fill-color: #D2E3FC;\n",
              "      --hover-bg-color: #434B5C;\n",
              "      --hover-fill-color: #FFFFFF;\n",
              "      --disabled-bg-color: #3B4455;\n",
              "      --disabled-fill-color: #666;\n",
              "  }\n",
              "\n",
              "  .colab-df-quickchart {\n",
              "    background-color: var(--bg-color);\n",
              "    border: none;\n",
              "    border-radius: 50%;\n",
              "    cursor: pointer;\n",
              "    display: none;\n",
              "    fill: var(--fill-color);\n",
              "    height: 32px;\n",
              "    padding: 0;\n",
              "    width: 32px;\n",
              "  }\n",
              "\n",
              "  .colab-df-quickchart:hover {\n",
              "    background-color: var(--hover-bg-color);\n",
              "    box-shadow: 0 1px 2px rgba(60, 64, 67, 0.3), 0 1px 3px 1px rgba(60, 64, 67, 0.15);\n",
              "    fill: var(--button-hover-fill-color);\n",
              "  }\n",
              "\n",
              "  .colab-df-quickchart-complete:disabled,\n",
              "  .colab-df-quickchart-complete:disabled:hover {\n",
              "    background-color: var(--disabled-bg-color);\n",
              "    fill: var(--disabled-fill-color);\n",
              "    box-shadow: none;\n",
              "  }\n",
              "\n",
              "  .colab-df-spinner {\n",
              "    border: 2px solid var(--fill-color);\n",
              "    border-color: transparent;\n",
              "    border-bottom-color: var(--fill-color);\n",
              "    animation:\n",
              "      spin 1s steps(1) infinite;\n",
              "  }\n",
              "\n",
              "  @keyframes spin {\n",
              "    0% {\n",
              "      border-color: transparent;\n",
              "      border-bottom-color: var(--fill-color);\n",
              "      border-left-color: var(--fill-color);\n",
              "    }\n",
              "    20% {\n",
              "      border-color: transparent;\n",
              "      border-left-color: var(--fill-color);\n",
              "      border-top-color: var(--fill-color);\n",
              "    }\n",
              "    30% {\n",
              "      border-color: transparent;\n",
              "      border-left-color: var(--fill-color);\n",
              "      border-top-color: var(--fill-color);\n",
              "      border-right-color: var(--fill-color);\n",
              "    }\n",
              "    40% {\n",
              "      border-color: transparent;\n",
              "      border-right-color: var(--fill-color);\n",
              "      border-top-color: var(--fill-color);\n",
              "    }\n",
              "    60% {\n",
              "      border-color: transparent;\n",
              "      border-right-color: var(--fill-color);\n",
              "    }\n",
              "    80% {\n",
              "      border-color: transparent;\n",
              "      border-right-color: var(--fill-color);\n",
              "      border-bottom-color: var(--fill-color);\n",
              "    }\n",
              "    90% {\n",
              "      border-color: transparent;\n",
              "      border-bottom-color: var(--fill-color);\n",
              "    }\n",
              "  }\n",
              "</style>\n",
              "\n",
              "  <script>\n",
              "    async function quickchart(key) {\n",
              "      const quickchartButtonEl =\n",
              "        document.querySelector('#' + key + ' button');\n",
              "      quickchartButtonEl.disabled = true;  // To prevent multiple clicks.\n",
              "      quickchartButtonEl.classList.add('colab-df-spinner');\n",
              "      try {\n",
              "        const charts = await google.colab.kernel.invokeFunction(\n",
              "            'suggestCharts', [key], {});\n",
              "      } catch (error) {\n",
              "        console.error('Error during call to suggestCharts:', error);\n",
              "      }\n",
              "      quickchartButtonEl.classList.remove('colab-df-spinner');\n",
              "      quickchartButtonEl.classList.add('colab-df-quickchart-complete');\n",
              "    }\n",
              "    (() => {\n",
              "      let quickchartButtonEl =\n",
              "        document.querySelector('#df-74acfe12-49cb-46e7-b683-932ebb9c35eb button');\n",
              "      quickchartButtonEl.style.display =\n",
              "        google.colab.kernel.accessAllowed ? 'block' : 'none';\n",
              "    })();\n",
              "  </script>\n",
              "</div>\n",
              "    </div>\n",
              "  </div>\n"
            ],
            "application/vnd.google.colaboratory.intrinsic+json": {
              "type": "dataframe",
              "variable_name": "fake",
              "summary": "{\n  \"name\": \"fake\",\n  \"rows\": 23481,\n  \"fields\": [\n    {\n      \"column\": \"title\",\n      \"properties\": {\n        \"dtype\": \"string\",\n        \"num_unique_values\": 17903,\n        \"samples\": [\n          \" Fox News Mocked Into Oblivion After This F*cking STUPID Attempt To Make Steve Bannon Look Sane (TWEETS)\",\n          \"BREAKING: FL GOV RICK SCOTT Calls for FBI Director to Resign\",\n          \" WATCH: Mike Pence\\u2019s Photo Op With Puerto Rico Survivors Just Went TERRIBLY Wrong (VIDEO)\"\n        ],\n        \"semantic_type\": \"\",\n        \"description\": \"\"\n      }\n    },\n    {\n      \"column\": \"text\",\n      \"properties\": {\n        \"dtype\": \"string\",\n        \"num_unique_values\": 17455,\n        \"samples\": [\n          \"The moral decay continues The Kapiolani Medical Center for Women and Children at the University of Hawaii is currently recruiting pregnant girls and women to participate in second-trimester abortions to measure their bleeding during the operation, with and without antihemorrhagic drugs. According to the Clinical Trials website, run by the National Institutes of Health, participants must be at least 14 years old and 18-24 weeks pregnant.The controversial study, led by Bliss Kaneshiro, MD and Kate Whitehouse, DO, will monitor bleeding during D&E abortions to determine the effects of the drug oxytocin, commonly used to minimize blood loss and decrease the risk of hemorrhage.The clinical trial, called  Effects of Oxytocin on Bleeding Outcomes during Dilation and Evacuation  began in October 2014 and is a collaboration between UH, Society of Family Planning and the University of Washington.The Society of Family Planning funds a number of similar research projects, such as experimenting with the dosage of Misoprostol, a uterine contracting agent, prior to surgical abortions at 13-18 weeks and exploring umbilical cord injections to produce fetal death prior to late-term abortions.In the UH study, researchers will carry out a  randomized, double-blinded, placebo-controlled trials,  to determine the effect of oxytocin s use on uterine bleeding, meaning that they will either provide or deny intravenous oxytocin to the women.Reports suggest that some doctors are concerned that withholding oxytocin during surgery may put patients, especially teen girls, at risk. This study is reminiscent of Nazi concentration camp experiments. I pity the poor women who are being treated like lab rats, especially those who are denied the drug to reduce hemorrhaging,  said Troy Newman, President of Operation Rescue.Dilation and evacuation abortions are surgical procedures that involve dismembering the pre-born baby with forceps, scraping the inside of the uterus with a curette to remove any residuals and finally suctioning out the womb to make sure the contents are completely removed.After the abortion, the corpse of the fetus is reassembled and examined to ensure everything was successfully removed and that the abortion was complete.The study is hoping to attract up to 166 test subjects and is expected to conclude in July 2015.Via: Breitbart News\",\n          \"CNN was quick to scoop up Corey Lewandowski after Donald Trump kicked him out of his role as campaign manager, but his first week on the job is going pretty much exactly how you would expect it to go   terribly.Not only has Lewandowski proven himself to be pretty much like a paid spokesman for Trump, but his defense of the disgraced GOP candidate isn t being received well. Earlier this week, Lewandowski revealed that he was under contract and couldn t criticize The Donald, even after being fired from the campaign. Today, Lewandowski got called out by Hillary Clinton surrogate Christine Quinn for hyping Trump up to be an expert on the Brexit decision   a suggestion that was clearly false.On Monday s edition of CNN s New Day, Lewandowski made another pathetic defense of Trump by trying to reframe the candidate s disgusting reaction to Brexit, where he mostly spoke about how much the decision would be good for his Scotland golf resort. Lewandowski s defense was: Obviously the U.S. dollar has become much stronger now against the British pound. If you re going to spend money in Europe, now would actually be a good time to go with the fall of the pound.What you have is a world view, so what you have is someone who is saying,  Let s look at this from the U.S. perspective. If you want to go and travel overseas   just from a monetary perspective   now is the right time to do that because what you re getting is more for your dollar. Quinn wasn t having it. She ripped into Lewandowski, firing back, Donald Trump is not running to be travel agent of the world, he s running to be president of the United States.  She continued: What he said wasn t a commentary on international markets, it was,  When the pound goes down, more people will come to my golf course. Donald Trump s main concern isn t the international markets, it isn t the impact that Brexit will have on hard working Americans  401Ks, it s himself. How can he make more money, how can he put more money in his bank account? Lewandowski compared the Brexit decision to Trump s rise in the GOP, and Quinn once again called him out and put him back in his place. She said: Trump touted that he saw this coming. That s ridiculous because when he was first asked about Brexit by the press, he didn t appear to know what it was. Lewandowski tried to counter by insisting that People are too smart, they are tired of being told what to do.  He then tried to commend Trump for being a selfish moron: You know what Donald Trump said about Brexit? What he said was, you don t have to listen to me because it s not my decision. He didn t weigh in like Hillary Clinton did, like Barack Obama did, saying that you can t do this. Quinn fought back, Because he didn t know what it was. Lewandowski was fighting a losing battle. Trump s reaction to Brexit was just as terrifying as it was humorous   it truly proved that Trump knows nothing about foreign affairs, and hasn t spent any time educating himself since the beginning of his presidential candidacy. If only some of the hours he spent getting into fights on Twitter were being used for learning about how the world works. But instead, he once again exposed himself as an unfit choice for President. And when people like Lewandowski try to make sense of his idiocy, they only make themselves look equally foolish.You can watch the embarrassing video below:Featured image via screen capture\",\n          \"A Michigan woman decided to defend against tyranny? when she and another shopper couldn t agree over who got to buy the last notebook on the shelf at the Novi Towne Center store.According to ABC 13, the brawl   yes, brawl    involved two Farmington Hills residents, ages 46 and 32, and a mother and daughter from South Lyon, ages 51 and 20. In other words, these were all grown adults who should have known better but hey   there was only one notebook on the shelf, and we ve all seen what happens in those post-apocalyptic movies when a store is down to the last gallon of milk, right?Two of the women, one of whom was the unnamed 20-year-old, reached for the notebook at the same time. The 46 and 32-year-olds apparently decided that she wasn t getting their goddamn notebook and began pulling her hair.Then, because this had almost hit peak  trailer park,  the 20-year-old s mother decided to go for bonus points by pulling out her gun. Fortunately, someone pushed her aside before she could do any harm.This is one of the NRA s  responsible gun owners  (conservatives can t dismiss this one, as it is confirmed that she is a concealed carry permit holder)   ready to leap into action at the most minor sign of danger and make things worse by turning the situation potentially deadly.Watch it happen below:Featured image via screengrab\"\n        ],\n        \"semantic_type\": \"\",\n        \"description\": \"\"\n      }\n    },\n    {\n      \"column\": \"subject\",\n      \"properties\": {\n        \"dtype\": \"category\",\n        \"num_unique_values\": 6,\n        \"samples\": [\n          \"News\",\n          \"politics\",\n          \"Middle-east\"\n        ],\n        \"semantic_type\": \"\",\n        \"description\": \"\"\n      }\n    },\n    {\n      \"column\": \"date\",\n      \"properties\": {\n        \"dtype\": \"category\",\n        \"num_unique_values\": 1681,\n        \"samples\": [\n          \"Jun 5, 2015\",\n          \"August 28, 2016\",\n          \"June 3, 2017\"\n        ],\n        \"semantic_type\": \"\",\n        \"description\": \"\"\n      }\n    },\n    {\n      \"column\": \"label\",\n      \"properties\": {\n        \"dtype\": \"number\",\n        \"std\": 0,\n        \"min\": 0,\n        \"max\": 0,\n        \"num_unique_values\": 1,\n        \"samples\": [\n          0\n        ],\n        \"semantic_type\": \"\",\n        \"description\": \"\"\n      }\n    }\n  ]\n}"
            }
          },
          "metadata": {},
          "execution_count": 4
        }
      ],
      "source": [
        "fake = pd.read_csv(\"/content/fake.csv\")\n",
        "fake['label'] = 0 # 0 as fake, 1 as real\n",
        "fake.head(2)"
      ]
    },
    {
      "cell_type": "code",
      "execution_count": null,
      "metadata": {
        "id": "HBiI1FLfJi96"
      },
      "outputs": [],
      "source": [
        "# fakenews = pd.read_csv(\"/content/FakeNewsNet.csv\")\n",
        "# fakenews.head(5)"
      ]
    },
    {
      "cell_type": "markdown",
      "metadata": {
        "id": "dIEDBxGQFitu"
      },
      "source": [
        "#TESTING MODELS\n"
      ]
    },
    {
      "cell_type": "code",
      "execution_count": 5,
      "metadata": {
        "colab": {
          "base_uri": "https://localhost:8080/",
          "height": 727
        },
        "id": "63FemJX_iV1T",
        "outputId": "e8035de6-0ecb-48bb-9866-23be7f695421"
      },
      "outputs": [
        {
          "output_type": "execute_result",
          "data": {
            "text/plain": [
              "                                                                                                                    title  \\\n",
              "0                               Canada’s Foreign Minister: We Must Now Fill The Global Leadership Role U.S. Has Abandoned   \n",
              "1                                       College Punishes Success By Not Allowing Yacht Club At Prestigious School [VIDEO]   \n",
              "2  WOW! HILLARY SUPPORTER CAUGHT On Undercover Camera Saying “It’s Okay” To Rip Up Republican Voter Registrations [VIDEO]   \n",
              "3                                                                 After victory in Raqqa over IS, Kurds face tricky peace   \n",
              "4              WATCH: FOX News Host And Commentator Suspended On Same Day For Using ‘Colorful Language’ To Describe Obama   \n",
              "\n",
              "                                                                                                                                                                                                                                                                                                                                                                                                                                                                                                                                                                                                                      text  \\\n",
              "0  Donald Trump has done so much damage that other countries are now scrambling to figure out their new role in the world. The U.S. is quickly losing its status as a superpower with Trump at the helm and now leaders from around the globe are figuring out just who will fill the void. On Tuesday, Canada s foreign minister said that his country must step up to help fill the global leadership role that the U.S. has abandoned under Trump.During a speech, Minister Chrystia Freeland said that while the  United States has truly been the indispensable nation  in years past and  has helped foster peace...   \n",
              "1  The shaming of the rich should not surprise anyone coming from a whacked out college that actually offers a major in the non-belief of God. The Left s attempt to redefine the core values and beliefs that make America the greatest country in the world offends us. California College Denies Student Yacht Club, Says Yacht Clubs Are OffensiveAre yacht clubs   in and of themselves   offensive? According to Pitzer College in Claremont, California, the answer is yes.Last week, the student Senate at Pitzer voted to deny instating a yacht club at the school  as the majority of Senators found the nam...   \n",
              "2  Democrats are on the move. They are panicking over the size of Trump s rallies vs. Hillary s. They will do whatever is necessary to hold on to power. Americans need to vigilant. We all need to get involved in working to help out with voter registration and to keep an eye on the process. We all need to get involved with the GOP and become poll challengers on election day in precincts, and to help to count absentee ballots. We cannot trust that if we leave this election up to the people who have traditionally been allowed to count our votes or supervise our elections, that we will have a fai...   \n",
              "3  RAQQA, Syria/BEIRUT (Reuters) - Kurdish groups who led the fight against Islamic State in its former capital Raqqa must navigate a complex peace to avoid ethnic tension with the city s Arab majority and to secure critical U.S. aid. The Kurdish-dominated Syrian Democratic Forces (SDF) which finally vanquished Islamic State in Raqqa on Tuesday face a big task rebuilding a city left in ruins by months of intense fighting and heavy air strikes by the U.S.-led coalition. The political challenge is no less daunting in a city that falls outside the Kurdish-dominated regions of northern Syria. The...   \n",
              "4       What do you think? Has Americans reached their breaking point? The Fox News and Fox Business networks have suspended on-air host Stacey Dash and commentator Lt. Col. Ralph Peters for cursing on the air about President Obama s handling of the Islamic State terrorist group.https://youtu.be/9RYsIAkyNlIPeters called Obama a  pussy  after his primetime televised speech on terrorism, while Dash said that he couldn t give a  shit  about the terrorist group. Both commentators immediately acknowledged that they were wrong for using the epithets, but the suspension still stands.Via: Breitbart News   \n",
              "\n",
              "     subject               date  label  \n",
              "0       News       June 6, 2017      0  \n",
              "1   politics       Oct 11, 2015      0  \n",
              "2  left-news       Oct 12, 2016      0  \n",
              "3  worldnews  October 17, 2017       1  \n",
              "4   politics        Dec 8, 2015      0  "
            ],
            "text/html": [
              "\n",
              "  <div id=\"df-ce0fd598-2f6f-46d6-9e3a-d9930befed3d\" class=\"colab-df-container\">\n",
              "    <div>\n",
              "<style scoped>\n",
              "    .dataframe tbody tr th:only-of-type {\n",
              "        vertical-align: middle;\n",
              "    }\n",
              "\n",
              "    .dataframe tbody tr th {\n",
              "        vertical-align: top;\n",
              "    }\n",
              "\n",
              "    .dataframe thead th {\n",
              "        text-align: right;\n",
              "    }\n",
              "</style>\n",
              "<table border=\"1\" class=\"dataframe\">\n",
              "  <thead>\n",
              "    <tr style=\"text-align: right;\">\n",
              "      <th></th>\n",
              "      <th>title</th>\n",
              "      <th>text</th>\n",
              "      <th>subject</th>\n",
              "      <th>date</th>\n",
              "      <th>label</th>\n",
              "    </tr>\n",
              "  </thead>\n",
              "  <tbody>\n",
              "    <tr>\n",
              "      <th>0</th>\n",
              "      <td>Canada’s Foreign Minister: We Must Now Fill The Global Leadership Role U.S. Has Abandoned</td>\n",
              "      <td>Donald Trump has done so much damage that other countries are now scrambling to figure out their new role in the world. The U.S. is quickly losing its status as a superpower with Trump at the helm and now leaders from around the globe are figuring out just who will fill the void. On Tuesday, Canada s foreign minister said that his country must step up to help fill the global leadership role that the U.S. has abandoned under Trump.During a speech, Minister Chrystia Freeland said that while the  United States has truly been the indispensable nation  in years past and  has helped foster peace...</td>\n",
              "      <td>News</td>\n",
              "      <td>June 6, 2017</td>\n",
              "      <td>0</td>\n",
              "    </tr>\n",
              "    <tr>\n",
              "      <th>1</th>\n",
              "      <td>College Punishes Success By Not Allowing Yacht Club At Prestigious School [VIDEO]</td>\n",
              "      <td>The shaming of the rich should not surprise anyone coming from a whacked out college that actually offers a major in the non-belief of God. The Left s attempt to redefine the core values and beliefs that make America the greatest country in the world offends us. California College Denies Student Yacht Club, Says Yacht Clubs Are OffensiveAre yacht clubs   in and of themselves   offensive? According to Pitzer College in Claremont, California, the answer is yes.Last week, the student Senate at Pitzer voted to deny instating a yacht club at the school  as the majority of Senators found the nam...</td>\n",
              "      <td>politics</td>\n",
              "      <td>Oct 11, 2015</td>\n",
              "      <td>0</td>\n",
              "    </tr>\n",
              "    <tr>\n",
              "      <th>2</th>\n",
              "      <td>WOW! HILLARY SUPPORTER CAUGHT On Undercover Camera Saying “It’s Okay” To Rip Up Republican Voter Registrations [VIDEO]</td>\n",
              "      <td>Democrats are on the move. They are panicking over the size of Trump s rallies vs. Hillary s. They will do whatever is necessary to hold on to power. Americans need to vigilant. We all need to get involved in working to help out with voter registration and to keep an eye on the process. We all need to get involved with the GOP and become poll challengers on election day in precincts, and to help to count absentee ballots. We cannot trust that if we leave this election up to the people who have traditionally been allowed to count our votes or supervise our elections, that we will have a fai...</td>\n",
              "      <td>left-news</td>\n",
              "      <td>Oct 12, 2016</td>\n",
              "      <td>0</td>\n",
              "    </tr>\n",
              "    <tr>\n",
              "      <th>3</th>\n",
              "      <td>After victory in Raqqa over IS, Kurds face tricky peace</td>\n",
              "      <td>RAQQA, Syria/BEIRUT (Reuters) - Kurdish groups who led the fight against Islamic State in its former capital Raqqa must navigate a complex peace to avoid ethnic tension with the city s Arab majority and to secure critical U.S. aid. The Kurdish-dominated Syrian Democratic Forces (SDF) which finally vanquished Islamic State in Raqqa on Tuesday face a big task rebuilding a city left in ruins by months of intense fighting and heavy air strikes by the U.S.-led coalition. The political challenge is no less daunting in a city that falls outside the Kurdish-dominated regions of northern Syria. The...</td>\n",
              "      <td>worldnews</td>\n",
              "      <td>October 17, 2017</td>\n",
              "      <td>1</td>\n",
              "    </tr>\n",
              "    <tr>\n",
              "      <th>4</th>\n",
              "      <td>WATCH: FOX News Host And Commentator Suspended On Same Day For Using ‘Colorful Language’ To Describe Obama</td>\n",
              "      <td>What do you think? Has Americans reached their breaking point? The Fox News and Fox Business networks have suspended on-air host Stacey Dash and commentator Lt. Col. Ralph Peters for cursing on the air about President Obama s handling of the Islamic State terrorist group.https://youtu.be/9RYsIAkyNlIPeters called Obama a  pussy  after his primetime televised speech on terrorism, while Dash said that he couldn t give a  shit  about the terrorist group. Both commentators immediately acknowledged that they were wrong for using the epithets, but the suspension still stands.Via: Breitbart News</td>\n",
              "      <td>politics</td>\n",
              "      <td>Dec 8, 2015</td>\n",
              "      <td>0</td>\n",
              "    </tr>\n",
              "  </tbody>\n",
              "</table>\n",
              "</div>\n",
              "    <div class=\"colab-df-buttons\">\n",
              "\n",
              "  <div class=\"colab-df-container\">\n",
              "    <button class=\"colab-df-convert\" onclick=\"convertToInteractive('df-ce0fd598-2f6f-46d6-9e3a-d9930befed3d')\"\n",
              "            title=\"Convert this dataframe to an interactive table.\"\n",
              "            style=\"display:none;\">\n",
              "\n",
              "  <svg xmlns=\"http://www.w3.org/2000/svg\" height=\"24px\" viewBox=\"0 -960 960 960\">\n",
              "    <path d=\"M120-120v-720h720v720H120Zm60-500h600v-160H180v160Zm220 220h160v-160H400v160Zm0 220h160v-160H400v160ZM180-400h160v-160H180v160Zm440 0h160v-160H620v160ZM180-180h160v-160H180v160Zm440 0h160v-160H620v160Z\"/>\n",
              "  </svg>\n",
              "    </button>\n",
              "\n",
              "  <style>\n",
              "    .colab-df-container {\n",
              "      display:flex;\n",
              "      gap: 12px;\n",
              "    }\n",
              "\n",
              "    .colab-df-convert {\n",
              "      background-color: #E8F0FE;\n",
              "      border: none;\n",
              "      border-radius: 50%;\n",
              "      cursor: pointer;\n",
              "      display: none;\n",
              "      fill: #1967D2;\n",
              "      height: 32px;\n",
              "      padding: 0 0 0 0;\n",
              "      width: 32px;\n",
              "    }\n",
              "\n",
              "    .colab-df-convert:hover {\n",
              "      background-color: #E2EBFA;\n",
              "      box-shadow: 0px 1px 2px rgba(60, 64, 67, 0.3), 0px 1px 3px 1px rgba(60, 64, 67, 0.15);\n",
              "      fill: #174EA6;\n",
              "    }\n",
              "\n",
              "    .colab-df-buttons div {\n",
              "      margin-bottom: 4px;\n",
              "    }\n",
              "\n",
              "    [theme=dark] .colab-df-convert {\n",
              "      background-color: #3B4455;\n",
              "      fill: #D2E3FC;\n",
              "    }\n",
              "\n",
              "    [theme=dark] .colab-df-convert:hover {\n",
              "      background-color: #434B5C;\n",
              "      box-shadow: 0px 1px 3px 1px rgba(0, 0, 0, 0.15);\n",
              "      filter: drop-shadow(0px 1px 2px rgba(0, 0, 0, 0.3));\n",
              "      fill: #FFFFFF;\n",
              "    }\n",
              "  </style>\n",
              "\n",
              "    <script>\n",
              "      const buttonEl =\n",
              "        document.querySelector('#df-ce0fd598-2f6f-46d6-9e3a-d9930befed3d button.colab-df-convert');\n",
              "      buttonEl.style.display =\n",
              "        google.colab.kernel.accessAllowed ? 'block' : 'none';\n",
              "\n",
              "      async function convertToInteractive(key) {\n",
              "        const element = document.querySelector('#df-ce0fd598-2f6f-46d6-9e3a-d9930befed3d');\n",
              "        const dataTable =\n",
              "          await google.colab.kernel.invokeFunction('convertToInteractive',\n",
              "                                                    [key], {});\n",
              "        if (!dataTable) return;\n",
              "\n",
              "        const docLinkHtml = 'Like what you see? Visit the ' +\n",
              "          '<a target=\"_blank\" href=https://colab.research.google.com/notebooks/data_table.ipynb>data table notebook</a>'\n",
              "          + ' to learn more about interactive tables.';\n",
              "        element.innerHTML = '';\n",
              "        dataTable['output_type'] = 'display_data';\n",
              "        await google.colab.output.renderOutput(dataTable, element);\n",
              "        const docLink = document.createElement('div');\n",
              "        docLink.innerHTML = docLinkHtml;\n",
              "        element.appendChild(docLink);\n",
              "      }\n",
              "    </script>\n",
              "  </div>\n",
              "\n",
              "\n",
              "<div id=\"df-3618042c-a2a5-4833-92f5-274ed1a722bb\">\n",
              "  <button class=\"colab-df-quickchart\" onclick=\"quickchart('df-3618042c-a2a5-4833-92f5-274ed1a722bb')\"\n",
              "            title=\"Suggest charts\"\n",
              "            style=\"display:none;\">\n",
              "\n",
              "<svg xmlns=\"http://www.w3.org/2000/svg\" height=\"24px\"viewBox=\"0 0 24 24\"\n",
              "     width=\"24px\">\n",
              "    <g>\n",
              "        <path d=\"M19 3H5c-1.1 0-2 .9-2 2v14c0 1.1.9 2 2 2h14c1.1 0 2-.9 2-2V5c0-1.1-.9-2-2-2zM9 17H7v-7h2v7zm4 0h-2V7h2v10zm4 0h-2v-4h2v4z\"/>\n",
              "    </g>\n",
              "</svg>\n",
              "  </button>\n",
              "\n",
              "<style>\n",
              "  .colab-df-quickchart {\n",
              "      --bg-color: #E8F0FE;\n",
              "      --fill-color: #1967D2;\n",
              "      --hover-bg-color: #E2EBFA;\n",
              "      --hover-fill-color: #174EA6;\n",
              "      --disabled-fill-color: #AAA;\n",
              "      --disabled-bg-color: #DDD;\n",
              "  }\n",
              "\n",
              "  [theme=dark] .colab-df-quickchart {\n",
              "      --bg-color: #3B4455;\n",
              "      --fill-color: #D2E3FC;\n",
              "      --hover-bg-color: #434B5C;\n",
              "      --hover-fill-color: #FFFFFF;\n",
              "      --disabled-bg-color: #3B4455;\n",
              "      --disabled-fill-color: #666;\n",
              "  }\n",
              "\n",
              "  .colab-df-quickchart {\n",
              "    background-color: var(--bg-color);\n",
              "    border: none;\n",
              "    border-radius: 50%;\n",
              "    cursor: pointer;\n",
              "    display: none;\n",
              "    fill: var(--fill-color);\n",
              "    height: 32px;\n",
              "    padding: 0;\n",
              "    width: 32px;\n",
              "  }\n",
              "\n",
              "  .colab-df-quickchart:hover {\n",
              "    background-color: var(--hover-bg-color);\n",
              "    box-shadow: 0 1px 2px rgba(60, 64, 67, 0.3), 0 1px 3px 1px rgba(60, 64, 67, 0.15);\n",
              "    fill: var(--button-hover-fill-color);\n",
              "  }\n",
              "\n",
              "  .colab-df-quickchart-complete:disabled,\n",
              "  .colab-df-quickchart-complete:disabled:hover {\n",
              "    background-color: var(--disabled-bg-color);\n",
              "    fill: var(--disabled-fill-color);\n",
              "    box-shadow: none;\n",
              "  }\n",
              "\n",
              "  .colab-df-spinner {\n",
              "    border: 2px solid var(--fill-color);\n",
              "    border-color: transparent;\n",
              "    border-bottom-color: var(--fill-color);\n",
              "    animation:\n",
              "      spin 1s steps(1) infinite;\n",
              "  }\n",
              "\n",
              "  @keyframes spin {\n",
              "    0% {\n",
              "      border-color: transparent;\n",
              "      border-bottom-color: var(--fill-color);\n",
              "      border-left-color: var(--fill-color);\n",
              "    }\n",
              "    20% {\n",
              "      border-color: transparent;\n",
              "      border-left-color: var(--fill-color);\n",
              "      border-top-color: var(--fill-color);\n",
              "    }\n",
              "    30% {\n",
              "      border-color: transparent;\n",
              "      border-left-color: var(--fill-color);\n",
              "      border-top-color: var(--fill-color);\n",
              "      border-right-color: var(--fill-color);\n",
              "    }\n",
              "    40% {\n",
              "      border-color: transparent;\n",
              "      border-right-color: var(--fill-color);\n",
              "      border-top-color: var(--fill-color);\n",
              "    }\n",
              "    60% {\n",
              "      border-color: transparent;\n",
              "      border-right-color: var(--fill-color);\n",
              "    }\n",
              "    80% {\n",
              "      border-color: transparent;\n",
              "      border-right-color: var(--fill-color);\n",
              "      border-bottom-color: var(--fill-color);\n",
              "    }\n",
              "    90% {\n",
              "      border-color: transparent;\n",
              "      border-bottom-color: var(--fill-color);\n",
              "    }\n",
              "  }\n",
              "</style>\n",
              "\n",
              "  <script>\n",
              "    async function quickchart(key) {\n",
              "      const quickchartButtonEl =\n",
              "        document.querySelector('#' + key + ' button');\n",
              "      quickchartButtonEl.disabled = true;  // To prevent multiple clicks.\n",
              "      quickchartButtonEl.classList.add('colab-df-spinner');\n",
              "      try {\n",
              "        const charts = await google.colab.kernel.invokeFunction(\n",
              "            'suggestCharts', [key], {});\n",
              "      } catch (error) {\n",
              "        console.error('Error during call to suggestCharts:', error);\n",
              "      }\n",
              "      quickchartButtonEl.classList.remove('colab-df-spinner');\n",
              "      quickchartButtonEl.classList.add('colab-df-quickchart-complete');\n",
              "    }\n",
              "    (() => {\n",
              "      let quickchartButtonEl =\n",
              "        document.querySelector('#df-3618042c-a2a5-4833-92f5-274ed1a722bb button');\n",
              "      quickchartButtonEl.style.display =\n",
              "        google.colab.kernel.accessAllowed ? 'block' : 'none';\n",
              "    })();\n",
              "  </script>\n",
              "</div>\n",
              "    </div>\n",
              "  </div>\n"
            ],
            "application/vnd.google.colaboratory.intrinsic+json": {
              "type": "dataframe",
              "variable_name": "news",
              "summary": "{\n  \"name\": \"news\",\n  \"rows\": 44898,\n  \"fields\": [\n    {\n      \"column\": \"title\",\n      \"properties\": {\n        \"dtype\": \"string\",\n        \"num_unique_values\": 38729,\n        \"samples\": [\n          \"Trump to order 180-day delay of Labor Dept 'fiduciary' rule\",\n          \" Dems SLAM Trump For Racist Support And Kellyanne Conway Freaks Out\",\n          \"Banks view turning branches to subsidiaries as Brexit 'red line'\"\n        ],\n        \"semantic_type\": \"\",\n        \"description\": \"\"\n      }\n    },\n    {\n      \"column\": \"text\",\n      \"properties\": {\n        \"dtype\": \"string\",\n        \"num_unique_values\": 38646,\n        \"samples\": [\n          \"President Barack Obama has recently announced that he will be issuing executive orders on guns after a series of horrific attacks involving firearms. Predictably, the NRA and Republicans are absolutely freaking out over this, and one of the outspoken GOPers whining about this just happens to be Republican presidential candidate and New Jersey Governor Chris Christie.During an interview with Fox News on Sunday, Christie criticized Obama for trying to improve gun control laws, calling him a  boy  for trying to keep the American people safe from terrorism and violence within the home.When Fox moderator Chris Wallace asked Christie what he thought about Obama s intention to expand background checks and prevent guns from getting into the hands of accused domestic abusers and terrorists, Christie went off on a rant: This President is a petulant child. Whenever he can t get what he wants, because frankly, the American people have rejected his agenda by turning over the House and the Senate to republicans, going from 21 Republican governors when he came into office, now 31, now he wants to act as a king. The fact is if he wants to make changes to these laws, go to congress and convince congress they re necessary, but this is going to be another illegal executive action which I m sure will be rejected by the courts. When I become president, they will be stricken from executive action by executive action I will take. You can watch Christie go off on Obama below: Christie had no issue criticizing Obama, even though he is unaware of what Obama will actually do, or the potential legality of those actions. The crazy thing is, Christie later said that he is FOR the restriction on guns to terror watch suspects, but isn t comfortable with Obama taking immediate, responsible action! Wallace pointed out that Christie had previously been supportive of gun control measures, and asked him if he d changed his stance. Christie said: I haven t changed my tune. I signed the bill that banned guns for people on the terror watch list. As president, I would make sure that terror watch list was actually accurate. Interestingly enough, Republicans are fine when Obama takes executive action for things like bombing Syria   however when it comes to protecting women from their abusers or stopping terrorists from getting guns, they ve proven time after time that it s just not a priority.Tomorrow, Obama will see Attorney General Loretta Lynch to finalize his proposal. A town hall will be held on Thursday, and the new executive actions on background checks are expected in the next few days. Featured image via Marc Nozell / Flickr\",\n          \"KOSAMBI, Indonesia (Reuters) - Two explosions tore through a fireworks factory on the outskirts of Indonesia s capital on Thursday, killing at least 47 people and injuring dozens. It was one of Indonesia s worst industrial disasters and is likely to cast a new spotlight on lax safety standards in the Southeast Asian country, where rules are often ignored or weakly enforced. Workers had no time to escape from the plant in Tangerang, an industrial and manufacturing hub to the west of Jakarta, after the explosions that one neighbor described as a  roar  that could be heard miles away. A video of the scene inside the warehouse, widely shared on social media, showed charred bodies sprawled about the burnt-out factory, and Reuters reporters at the scene saw grass scorched over an area about 10 meters (33 feet) from the site.  People were burned so badly you couldn t see their faces ... It was really bad,  said search and rescue official Deden Nurjaman, who expected the death toll to climb as more bodies were found inside the factory. Fireworks are frequently used in Indonesia for religious and other celebrations, and are widely available. There have been a series of major fires in Indonesia this year, including one that engulfed one of Jakarta s main markets. Thick, dark plumes of smoke billowed from the factory through the afternoon as an inferno took hold. As night fell, the PT Panca Buana Cahaya Sukses warehouse was still smoldering and there was a stench of chemicals and burning plastic. Jakarta police spokesman Argo Yuwono told Metro Television that 47 bodies had been discovered, 46 people were injured and 10 people were unaccounted for. He said the missing might have left with light injuries or not have been working at the time. One of the first policemen on the scene, Raymond Masengi, told Metro TV that he and other officers had to smash holes in the factory wall to help the injured escape. Fiza, a doctor in the emergency unit at Tangerang General Hospital, said he was treating seven people, some of them with burns to more than 80 percent of their bodies. Three were in critical condition. A nearby mosque held prayers for the victims. Forensic police worked in fading light to examine the debris, setting up a few floodlights to try and establish the cause of the blaze.  Yuwono said police were looking into the permit of the factory, which was close to a school and housing and - according to media reports - had been operating for only two months.     A witness who lives around the corner from the factory said she heard an explosion  like a roar .  I dressed and stepped outside the house, and saw the flames, they were almost in my face. The smoke, the heat was in my face. I panicked, I was scared, I picked up my son and ran away from the fire,  said Kartini, 40, who uses one name, like many Indonesians. Hundreds of children at a school just 100 meters (yards) from the factory jumped in terror over a wall as the explosions boomed, dropping books and bags in their haste to get away.  Science teacher Asep Mahmud, 47, said:  There were several small explosions and then one really big one that shook our buildings and desks.   (This story has been refiled to correct typo in second paragraph) \",\n          \"WASHINGTON (Reuters) - New Interior Secretary Ryan Zinke plans to review Obama-era measures that limited energy development on some federal land and undertake a \\u201cbold\\u201d reorganization of his 70,000-employee agency, he said on Friday. \\u00a0\\u00a0\\u00a0 The former U.S. congressman addressed employees at the Department of Interior\\u2019s headquarters on his second full day on the job, assuring them he would not sell off federal lands, as some had feared, but also promising change. \\u00a0\\u00a0\\u00a0 \\u201cYou can hear it from my lips: We will not sell or transfer public lands,\\u201d he said. \\u00a0\\u00a0\\u00a0 The department manages about a fifth of the country\\u2019s surface, including national parks, forests and tribal territories, from the Arctic to the Gulf of Mexico. \\u00a0\\u00a0\\u00a0 Zinke said he wanted to change the structure of the department, which includes the National Parks Service and the Bureau of Indian Affairs, to give more authority to rangers and land managers outside the District of Columbia. \\u00a0\\u00a0\\u00a0 \\u201cThe last time the Department of Interior has been reorganized was about 100 years ago, so the reorganization is going to be bold,\\u201d he said. \\u00a0\\u00a0\\u00a0 Zinke, who arrived on horseback for his first day at the department, did not provide specifics but said he would rely on input from Interior\\u2019s sub-agencies and bureaus. \\u00a0\\u00a0\\u00a0 The ex-Navy SEAL said employee surveys showed the farther staffers were from Washington, the unhappier they were because \\u201cthey felt they don\\u2019t have authority.\\u201d \\u00a0\\u00a0\\u00a0 Zinke, whose home state of Montana is one-third federal land, addressed career employees who face an uncertain future under Republican President Donald Trump. Some worry that Trump\\u2019s platform would open the door to selling off public land and more mining and drilling. Others fear deep cuts to the agency\\u2019s budget. Zinke told staff he was \\u201cunhappy\\u201d about preliminary budget figures and would \\u201cfight\\u201d to secure more money. \\u00a0 \\u00a0\\u00a0\\u00a0 Zinke has advocated for mining and drilling on federal land. He told reporters after his speech that he would review some executive actions from the waning days of the administration of former president Barack Obama, a Democrat, that had placed more federal land off-limits to development. \\u00a0\\u00a0\\u00a0 Those orders include limits to drilling in sensitive offshore areas like the Atlantic coast and Arctic, as well as a ban on new federal coal mining leases.  \\u00a0\\u00a0\\u00a0 \\u201cI think I am going to review everything that didn\\u2019t go through Congress,\\u201d Zinke said.  \\u00a0\\u00a0\\u00a0 However, he said the department would continue Obama\\u2019s effort to study whether coal leases had been properly valued to ensure taxpayers receive their fair value. \\u00a0\\u00a0\\u00a0 \\u201cI think we all benefit from that rather than buying a junk bond,\\u201d he said.  \"\n        ],\n        \"semantic_type\": \"\",\n        \"description\": \"\"\n      }\n    },\n    {\n      \"column\": \"subject\",\n      \"properties\": {\n        \"dtype\": \"category\",\n        \"num_unique_values\": 8,\n        \"samples\": [\n          \"politics\",\n          \"Middle-east\",\n          \"News\"\n        ],\n        \"semantic_type\": \"\",\n        \"description\": \"\"\n      }\n    },\n    {\n      \"column\": \"date\",\n      \"properties\": {\n        \"dtype\": \"category\",\n        \"num_unique_values\": 2397,\n        \"samples\": [\n          \"January 31, 2017 \",\n          \"Mar 25, 2016\",\n          \"March 23, 2017 \"\n        ],\n        \"semantic_type\": \"\",\n        \"description\": \"\"\n      }\n    },\n    {\n      \"column\": \"label\",\n      \"properties\": {\n        \"dtype\": \"number\",\n        \"std\": 0,\n        \"min\": 0,\n        \"max\": 1,\n        \"num_unique_values\": 2,\n        \"samples\": [\n          1,\n          0\n        ],\n        \"semantic_type\": \"\",\n        \"description\": \"\"\n      }\n    }\n  ]\n}"
            }
          },
          "metadata": {},
          "execution_count": 5
        }
      ],
      "source": [
        "# Joined dataset, optional use\n",
        "from random import sample\n",
        "news = pd.concat([fake,real])\n",
        "news = news.sample(frac=1).reset_index(drop=True) #shuffle rows\n",
        "news.head(5)"
      ]
    },
    {
      "cell_type": "code",
      "execution_count": 6,
      "metadata": {
        "id": "heoLG0PnTUVa"
      },
      "outputs": [],
      "source": [
        "news['label'] = news['label'].astype(\"float\")"
      ]
    },
    {
      "cell_type": "code",
      "source": [
        "# split 80% train, 10% test, 10% validation\n",
        "rows = len(news)\n",
        "train_rows = int(rows * 0.8)\n",
        "test_rows = int(rows * 0.1)\n",
        "val_rows = rows - train_rows - test_rows\n",
        "\n",
        "train_df = news[:train_rows]\n",
        "test_df = news[train_rows:train_rows + test_rows]\n",
        "val_df = news[train_rows + test_rows:]\n",
        "\n",
        "print(\"Training:\", len(train_df))\n",
        "print(\"Test:\", len(test_df))\n",
        "print(\"Validation:\", len(val_df))\n",
        "\n"
      ],
      "metadata": {
        "colab": {
          "base_uri": "https://localhost:8080/"
        },
        "id": "pMx1ZybvaLOl",
        "outputId": "4a027dd9-d2a3-49d2-edbc-b166f0477300"
      },
      "execution_count": 7,
      "outputs": [
        {
          "output_type": "stream",
          "name": "stdout",
          "text": [
            "Training: 35918\n",
            "Test: 4489\n",
            "Validation: 4491\n"
          ]
        }
      ]
    },
    {
      "cell_type": "code",
      "source": [
        "# train_df.to_csv('train.csv', index=False)\n",
        "# test_df.to_csv('test.csv', index=False)\n",
        "# val_df.to_csv('validation.csv', index=False)"
      ],
      "metadata": {
        "id": "2mnVI6cNduHD"
      },
      "execution_count": 60,
      "outputs": []
    },
    {
      "cell_type": "code",
      "source": [
        "X_train, y_train = train_df['text'], train_df['label']\n",
        "X_test, y_test = test_df['text'], test_df['label']\n",
        "X_val, y_val = val_df['text'], val_df['label']"
      ],
      "metadata": {
        "id": "JdQVGRHHfQyH"
      },
      "execution_count": 8,
      "outputs": []
    },
    {
      "cell_type": "code",
      "execution_count": null,
      "metadata": {
        "id": "mLWkk8KdFvDd"
      },
      "outputs": [],
      "source": [
        "########################################################################################################\n",
        "X = news[\"text\"]\n",
        "y = news[\"label\"]\n",
        "\n",
        "X_train, X_test, y_train, y_test = train_test_split(X, y, test_size = 0.2, random_state = 0)\n",
        "#split into different csv files\n",
        "#shuffle"
      ]
    },
    {
      "cell_type": "markdown",
      "metadata": {
        "id": "CO4YGa5VFrcZ"
      },
      "source": [
        "##RNNs - Aidan"
      ]
    },
    {
      "cell_type": "code",
      "source": [
        "X = news[\"text\"]\n",
        "y = news[\"label\"]\n",
        "\n",
        "X_train, X_valid, y_train, y_valid = train_test_split(X, y, test_size = 0.2, random_state = 0)"
      ],
      "metadata": {
        "id": "nX7HGpjXU126"
      },
      "execution_count": null,
      "outputs": []
    },
    {
      "cell_type": "code",
      "source": [
        "tokens_list = [article.split() for article in X_train]\n",
        "unique_tokens = set(token for article in tokens_list for token in article)\n",
        "vocab = list(unique_tokens)\n",
        "token_to_index = {token: index for index, token in enumerate(vocab)}\n",
        "numericalized_articles = [[token_to_index[token] for token in article] for article in tokens_list]"
      ],
      "metadata": {
        "id": "7U91e0Cd0T8G"
      },
      "execution_count": null,
      "outputs": []
    },
    {
      "cell_type": "code",
      "source": [
        "X_train_tensor = [torch.tensor(article, dtype=torch.long) for article in numericalized_articles]\n",
        "y_train_tensor = torch.tensor(y_train.values, dtype=torch.float32)\n",
        "X_val_tensor = [torch.tensor(article, dtype=torch.long) for article in numericalized_articles]\n",
        "y_val_tensor = torch.tensor(y_val.values, dtype=torch.float32)"
      ],
      "metadata": {
        "id": "92NyunJK0VzH"
      },
      "execution_count": null,
      "outputs": []
    },
    {
      "cell_type": "code",
      "source": [
        "class TextDataset(Dataset):\n",
        "    def __init__(self, texts, labels):\n",
        "        self.texts = texts\n",
        "        self.labels = labels\n",
        "\n",
        "    def __len__(self):\n",
        "        return len(self.texts)\n",
        "\n",
        "    def __getitem__(self, idx):\n",
        "        return self.texts[idx], self.labels[idx]"
      ],
      "metadata": {
        "id": "WLxi9Un-0Gdr"
      },
      "execution_count": null,
      "outputs": []
    },
    {
      "cell_type": "code",
      "source": [
        "train_ds_rnn = TextDataset(X_train_tensor, y_train_tensor)\n",
        "val_ds_rnn = TextDataset(X_val_tensor, y_val_tensor)"
      ],
      "metadata": {
        "id": "WQIfGiVu0NXY"
      },
      "execution_count": null,
      "outputs": []
    },
    {
      "cell_type": "code",
      "source": [
        "train_loader = DataLoader(train_ds_rnn, batch_size=32, shuffle=True, collate_fn=collate_batch)\n",
        "val_loader = DataLoader(val_ds_rnn, batch_size=32, shuffle=False, collate_fn=collate_batch)"
      ],
      "metadata": {
        "id": "Yodrj6mq0Tls"
      },
      "execution_count": null,
      "outputs": []
    },
    {
      "cell_type": "code",
      "source": [
        "for batch in train_loader:\n",
        "    x, y = batch"
      ],
      "metadata": {
        "id": "ExuvnxkI0Vuj"
      },
      "execution_count": null,
      "outputs": []
    },
    {
      "cell_type": "code",
      "source": [
        "class LM(Module):\n",
        "\n",
        "    def __init__(self, vocab_size, hidden_size):\n",
        "        self.input_embedding = Embedding(vocab_size, hidden_size)\n",
        "\n",
        "        ##### Hidden Layers\n",
        "        self.hidden_layer = nn.Linear(hidden_size, hidden_size)\n",
        "\n",
        "        self.output_layer = nn.Linear(hidden_size, vocab_size)\n",
        "\n",
        "    # Produces predictions\n",
        "    def forward(self, x):\n",
        "        h = 0 # Hidden Information\n",
        "            # We're just going to keep modifying this thing and passing it to the next layer\n",
        "\n",
        "        word1_embedding = self.input_embedding(x[:,0])\n",
        "        h = h + word1_embedding\n",
        "\n",
        "        # Pass through hidden layer\n",
        "        h = self.hidden_layer(h)\n",
        "        h = F.relu(h)\n",
        "\n",
        "        # Add in the second word\n",
        "        word2_embedding = self.input_embedding(x[:,1])\n",
        "\n",
        "        h = h + word2_embedding\n",
        "\n",
        "        # Pass through hidden layer\n",
        "        h = self.hidden_layer(h)\n",
        "        h = F.relu(h)\n",
        "\n",
        "        # Add in the third word\n",
        "        word3_embedding = self.input_embedding(x[:,2])\n",
        "\n",
        "        h = h + word3_embedding\n",
        "\n",
        "        # Pass through hidden layer\n",
        "        h = self.hidden_layer(h)\n",
        "        h = F.relu(h)\n",
        "\n",
        "        # Get final output\n",
        "        h = self.output_layer(h)\n",
        "        return h"
      ],
      "metadata": {
        "id": "yhStdh570dOj"
      },
      "execution_count": null,
      "outputs": []
    },
    {
      "cell_type": "code",
      "source": [
        "class LM(Module):\n",
        "\n",
        "    def __init__(self, vocab_size, hidden_size):\n",
        "        self.input_embedding = Embedding(vocab_size, hidden_size)\n",
        "\n",
        "        ##### Hidden Layers\n",
        "        ##### Input size must be hidden_size, output must be hidden_size\n",
        "        self.hidden_layer = nn.Linear(hidden_size, hidden_size)\n",
        "        ##### End Hidden Layers\n",
        "        self.output_layer = nn.Linear(hidden_size, vocab_size)\n",
        "\n",
        "    # Produces predictions\n",
        "    def forward(self, x):\n",
        "        h = 0 # Hidden Information\n",
        "            # We're just going to keep modifying this thing and passing it to the next layer\n",
        "\n",
        "        for i in range(3):\n",
        "            word_embedding = self.input_embedding(x[:,i])\n",
        "            h = h + word_embedding\n",
        "\n",
        "            # Pass through hidden layer\n",
        "            h = self.hidden_layer(h)\n",
        "            h = F.relu(h)\n",
        "\n",
        "        # Get final output\n",
        "        h = self.output_layer(h)\n",
        "        return h"
      ],
      "metadata": {
        "id": "1_q4lbgr0eK3"
      },
      "execution_count": null,
      "outputs": []
    },
    {
      "cell_type": "code",
      "source": [
        "class LM_persistent(Module):\n",
        "\n",
        "    def __init__(self, vocab_size, hidden_size):\n",
        "        self.input_embedding = Embedding(vocab_size, hidden_size)\n",
        "\n",
        "        ##### Hidden Layers\n",
        "        ##### Input size must be hidden_size, output must be hidden_size\n",
        "        self.hidden_layer = nn.Linear(hidden_size, hidden_size)\n",
        "        ##### End Hidden Layers\n",
        "        self.output_layer = nn.Linear(hidden_size, vocab_size)\n",
        "\n",
        "        self.h = 0\n",
        "\n",
        "    # Produces predictions\n",
        "    def forward(self, x):\n",
        "        #h = 0 # Hidden Information\n",
        "            # We're just going to keep modifying this thing and passing it to the next layer\n",
        "\n",
        "        for i in range(3):\n",
        "            word_embedding = self.input_embedding(x[:,i])\n",
        "            self.h = self.h + word_embedding\n",
        "\n",
        "            # Pass through hidden layer\n",
        "            self.h = self.hidden_layer(self.h)\n",
        "            self.h = F.relu(self.h)\n",
        "\n",
        "        # Get final output\n",
        "        output = self.output_layer(self.h)\n",
        "\n",
        "        self.h = self.h.detach()\n",
        "\n",
        "        return output\n",
        "\n",
        "    def reset(self):\n",
        "      self.h = 0"
      ],
      "metadata": {
        "id": "pdK9xUGm0hHM"
      },
      "execution_count": null,
      "outputs": []
    },
    {
      "cell_type": "code",
      "source": [
        "model = LM_persistent(len(vocab), 64)\n",
        "learn = Learner(dls, model, loss_func=F.cross_entropy, metrics=accuracy, cbs=ModelResetter)"
      ],
      "metadata": {
        "id": "imSikv060hCC"
      },
      "execution_count": null,
      "outputs": []
    },
    {
      "cell_type": "code",
      "source": [
        "learn.fit_one_cycle(5, 1e-3)"
      ],
      "metadata": {
        "id": "_lXtNrgt0mMW"
      },
      "execution_count": null,
      "outputs": []
    },
    {
      "cell_type": "markdown",
      "metadata": {
        "id": "OOet17dxFvh6"
      },
      "source": [
        "##Transformer - Anna"
      ]
    },
    {
      "cell_type": "code",
      "execution_count": 9,
      "metadata": {
        "id": "3u3_6Dm-U-jD"
      },
      "outputs": [],
      "source": [
        "#####################################################################################################################\n",
        "import os\n",
        "\n",
        "os.environ[\"PYTORCH_CUDA_ALLOC_CONF\"] = \"max_split_size_mb:512\"\n",
        "#####################################################################################################################\n"
      ]
    },
    {
      "cell_type": "code",
      "execution_count": 10,
      "metadata": {
        "id": "xy5Gt-ziS2DT",
        "colab": {
          "base_uri": "https://localhost:8080/"
        },
        "outputId": "e20a70ad-74d2-4e0d-b008-57bf9ebbb1e6"
      },
      "outputs": [
        {
          "output_type": "stream",
          "name": "stdout",
          "text": [
            "Requirement already satisfied: pyarrow in /usr/local/lib/python3.10/dist-packages (15.0.1)\n",
            "Requirement already satisfied: parquet in /usr/local/lib/python3.10/dist-packages (1.3.1)\n",
            "Requirement already satisfied: numpy<2,>=1.16.6 in /usr/local/lib/python3.10/dist-packages (from pyarrow) (1.25.2)\n",
            "Requirement already satisfied: thriftpy2 in /usr/local/lib/python3.10/dist-packages (from parquet) (0.4.20)\n",
            "Requirement already satisfied: ply<4.0,>=3.4 in /usr/local/lib/python3.10/dist-packages (from thriftpy2->parquet) (3.11)\n",
            "Requirement already satisfied: six~=1.15 in /usr/local/lib/python3.10/dist-packages (from thriftpy2->parquet) (1.16.0)\n"
          ]
        }
      ],
      "source": [
        "!pip install --upgrade pyarrow parquet"
      ]
    },
    {
      "cell_type": "code",
      "execution_count": 11,
      "metadata": {
        "colab": {
          "base_uri": "https://localhost:8080/"
        },
        "id": "ZL3INmekhufK",
        "outputId": "d2ae575c-ed66-4b58-da83-a9ef29d15040"
      },
      "outputs": [
        {
          "output_type": "stream",
          "name": "stdout",
          "text": [
            "Requirement already satisfied: transformers[torch] in /usr/local/lib/python3.10/dist-packages (4.38.2)\n",
            "Requirement already satisfied: filelock in /usr/local/lib/python3.10/dist-packages (from transformers[torch]) (3.13.1)\n",
            "Requirement already satisfied: huggingface-hub<1.0,>=0.19.3 in /usr/local/lib/python3.10/dist-packages (from transformers[torch]) (0.20.3)\n",
            "Requirement already satisfied: numpy>=1.17 in /usr/local/lib/python3.10/dist-packages (from transformers[torch]) (1.25.2)\n",
            "Requirement already satisfied: packaging>=20.0 in /usr/local/lib/python3.10/dist-packages (from transformers[torch]) (23.2)\n",
            "Requirement already satisfied: pyyaml>=5.1 in /usr/local/lib/python3.10/dist-packages (from transformers[torch]) (6.0.1)\n",
            "Requirement already satisfied: regex!=2019.12.17 in /usr/local/lib/python3.10/dist-packages (from transformers[torch]) (2023.12.25)\n",
            "Requirement already satisfied: requests in /usr/local/lib/python3.10/dist-packages (from transformers[torch]) (2.31.0)\n",
            "Requirement already satisfied: tokenizers<0.19,>=0.14 in /usr/local/lib/python3.10/dist-packages (from transformers[torch]) (0.15.2)\n",
            "Requirement already satisfied: safetensors>=0.4.1 in /usr/local/lib/python3.10/dist-packages (from transformers[torch]) (0.4.2)\n",
            "Requirement already satisfied: tqdm>=4.27 in /usr/local/lib/python3.10/dist-packages (from transformers[torch]) (4.66.2)\n",
            "Requirement already satisfied: torch in /usr/local/lib/python3.10/dist-packages (from transformers[torch]) (2.1.0+cu121)\n",
            "Requirement already satisfied: accelerate>=0.21.0 in /usr/local/lib/python3.10/dist-packages (from transformers[torch]) (0.27.2)\n",
            "Requirement already satisfied: psutil in /usr/local/lib/python3.10/dist-packages (from accelerate>=0.21.0->transformers[torch]) (5.9.5)\n",
            "Requirement already satisfied: fsspec>=2023.5.0 in /usr/local/lib/python3.10/dist-packages (from huggingface-hub<1.0,>=0.19.3->transformers[torch]) (2023.6.0)\n",
            "Requirement already satisfied: typing-extensions>=3.7.4.3 in /usr/local/lib/python3.10/dist-packages (from huggingface-hub<1.0,>=0.19.3->transformers[torch]) (4.10.0)\n",
            "Requirement already satisfied: sympy in /usr/local/lib/python3.10/dist-packages (from torch->transformers[torch]) (1.12)\n",
            "Requirement already satisfied: networkx in /usr/local/lib/python3.10/dist-packages (from torch->transformers[torch]) (3.2.1)\n",
            "Requirement already satisfied: jinja2 in /usr/local/lib/python3.10/dist-packages (from torch->transformers[torch]) (3.1.3)\n",
            "Requirement already satisfied: triton==2.1.0 in /usr/local/lib/python3.10/dist-packages (from torch->transformers[torch]) (2.1.0)\n",
            "Requirement already satisfied: charset-normalizer<4,>=2 in /usr/local/lib/python3.10/dist-packages (from requests->transformers[torch]) (3.3.2)\n",
            "Requirement already satisfied: idna<4,>=2.5 in /usr/local/lib/python3.10/dist-packages (from requests->transformers[torch]) (3.6)\n",
            "Requirement already satisfied: urllib3<3,>=1.21.1 in /usr/local/lib/python3.10/dist-packages (from requests->transformers[torch]) (2.0.7)\n",
            "Requirement already satisfied: certifi>=2017.4.17 in /usr/local/lib/python3.10/dist-packages (from requests->transformers[torch]) (2024.2.2)\n",
            "Requirement already satisfied: MarkupSafe>=2.0 in /usr/local/lib/python3.10/dist-packages (from jinja2->torch->transformers[torch]) (2.1.5)\n",
            "Requirement already satisfied: mpmath>=0.19 in /usr/local/lib/python3.10/dist-packages (from sympy->torch->transformers[torch]) (1.3.0)\n",
            "Requirement already satisfied: bitsandbytes in /usr/local/lib/python3.10/dist-packages (0.43.0)\n",
            "Requirement already satisfied: torch in /usr/local/lib/python3.10/dist-packages (from bitsandbytes) (2.1.0+cu121)\n",
            "Requirement already satisfied: numpy in /usr/local/lib/python3.10/dist-packages (from bitsandbytes) (1.25.2)\n",
            "Requirement already satisfied: filelock in /usr/local/lib/python3.10/dist-packages (from torch->bitsandbytes) (3.13.1)\n",
            "Requirement already satisfied: typing-extensions in /usr/local/lib/python3.10/dist-packages (from torch->bitsandbytes) (4.10.0)\n",
            "Requirement already satisfied: sympy in /usr/local/lib/python3.10/dist-packages (from torch->bitsandbytes) (1.12)\n",
            "Requirement already satisfied: networkx in /usr/local/lib/python3.10/dist-packages (from torch->bitsandbytes) (3.2.1)\n",
            "Requirement already satisfied: jinja2 in /usr/local/lib/python3.10/dist-packages (from torch->bitsandbytes) (3.1.3)\n",
            "Requirement already satisfied: fsspec in /usr/local/lib/python3.10/dist-packages (from torch->bitsandbytes) (2023.6.0)\n",
            "Requirement already satisfied: triton==2.1.0 in /usr/local/lib/python3.10/dist-packages (from torch->bitsandbytes) (2.1.0)\n",
            "Requirement already satisfied: MarkupSafe>=2.0 in /usr/local/lib/python3.10/dist-packages (from jinja2->torch->bitsandbytes) (2.1.5)\n",
            "Requirement already satisfied: mpmath>=0.19 in /usr/local/lib/python3.10/dist-packages (from sympy->torch->bitsandbytes) (1.3.0)\n"
          ]
        }
      ],
      "source": [
        "!pip install -q datasets\n",
        "!pip install transformers[torch]\n",
        "!pip install bitsandbytes\n",
        "import bitsandbytes as bnb"
      ]
    },
    {
      "cell_type": "code",
      "source": [
        "###########################   DEEP SPEED   #########################################################\n",
        "\n",
        "# !pip install torch==1.11.0 torchvision==0.12.0 --extra-index-url https://download.pytorch.org/whl/cu113 --upgrade -q\n",
        "# !pip install deepspeed==0.7.0 --upgrade -q\n",
        "# !pip install transformers[sentencepiece]==4.21.1 --upgrade -q\n",
        "# !pip install datasets evaluate[evaluator]==0.2.2 seqeval --upgrade -q\n",
        "# import deepspeed\n",
        "# from deepspeed.module_inject import HFBertLayerPolicy"
      ],
      "metadata": {
        "id": "9_lklL5CBr2j"
      },
      "execution_count": null,
      "outputs": []
    },
    {
      "cell_type": "code",
      "execution_count": 12,
      "metadata": {
        "id": "x85KDPmtv-1t",
        "colab": {
          "base_uri": "https://localhost:8080/"
        },
        "outputId": "708438a7-b946-4110-e85c-e978ef5ed7da"
      },
      "outputs": [
        {
          "output_type": "stream",
          "name": "stdout",
          "text": [
            "Requirement already satisfied: accelerate in /usr/local/lib/python3.10/dist-packages (0.27.2)\n",
            "Requirement already satisfied: numpy>=1.17 in /usr/local/lib/python3.10/dist-packages (from accelerate) (1.25.2)\n",
            "Requirement already satisfied: packaging>=20.0 in /usr/local/lib/python3.10/dist-packages (from accelerate) (23.2)\n",
            "Requirement already satisfied: psutil in /usr/local/lib/python3.10/dist-packages (from accelerate) (5.9.5)\n",
            "Requirement already satisfied: pyyaml in /usr/local/lib/python3.10/dist-packages (from accelerate) (6.0.1)\n",
            "Requirement already satisfied: torch>=1.10.0 in /usr/local/lib/python3.10/dist-packages (from accelerate) (2.1.0+cu121)\n",
            "Requirement already satisfied: huggingface-hub in /usr/local/lib/python3.10/dist-packages (from accelerate) (0.20.3)\n",
            "Requirement already satisfied: safetensors>=0.3.1 in /usr/local/lib/python3.10/dist-packages (from accelerate) (0.4.2)\n",
            "Requirement already satisfied: filelock in /usr/local/lib/python3.10/dist-packages (from torch>=1.10.0->accelerate) (3.13.1)\n",
            "Requirement already satisfied: typing-extensions in /usr/local/lib/python3.10/dist-packages (from torch>=1.10.0->accelerate) (4.10.0)\n",
            "Requirement already satisfied: sympy in /usr/local/lib/python3.10/dist-packages (from torch>=1.10.0->accelerate) (1.12)\n",
            "Requirement already satisfied: networkx in /usr/local/lib/python3.10/dist-packages (from torch>=1.10.0->accelerate) (3.2.1)\n",
            "Requirement already satisfied: jinja2 in /usr/local/lib/python3.10/dist-packages (from torch>=1.10.0->accelerate) (3.1.3)\n",
            "Requirement already satisfied: fsspec in /usr/local/lib/python3.10/dist-packages (from torch>=1.10.0->accelerate) (2023.6.0)\n",
            "Requirement already satisfied: triton==2.1.0 in /usr/local/lib/python3.10/dist-packages (from torch>=1.10.0->accelerate) (2.1.0)\n",
            "Requirement already satisfied: requests in /usr/local/lib/python3.10/dist-packages (from huggingface-hub->accelerate) (2.31.0)\n",
            "Requirement already satisfied: tqdm>=4.42.1 in /usr/local/lib/python3.10/dist-packages (from huggingface-hub->accelerate) (4.66.2)\n",
            "Requirement already satisfied: MarkupSafe>=2.0 in /usr/local/lib/python3.10/dist-packages (from jinja2->torch>=1.10.0->accelerate) (2.1.5)\n",
            "Requirement already satisfied: charset-normalizer<4,>=2 in /usr/local/lib/python3.10/dist-packages (from requests->huggingface-hub->accelerate) (3.3.2)\n",
            "Requirement already satisfied: idna<4,>=2.5 in /usr/local/lib/python3.10/dist-packages (from requests->huggingface-hub->accelerate) (3.6)\n",
            "Requirement already satisfied: urllib3<3,>=1.21.1 in /usr/local/lib/python3.10/dist-packages (from requests->huggingface-hub->accelerate) (2.0.7)\n",
            "Requirement already satisfied: certifi>=2017.4.17 in /usr/local/lib/python3.10/dist-packages (from requests->huggingface-hub->accelerate) (2024.2.2)\n",
            "Requirement already satisfied: mpmath>=0.19 in /usr/local/lib/python3.10/dist-packages (from sympy->torch>=1.10.0->accelerate) (1.3.0)\n"
          ]
        }
      ],
      "source": [
        "! pip install -U accelerate\n",
        "#! pip install -U transformers"
      ]
    },
    {
      "cell_type": "code",
      "execution_count": 13,
      "metadata": {
        "id": "8PIMXFtBF6Ea"
      },
      "outputs": [],
      "source": [
        "from datasets import Dataset,DatasetDict\n",
        "from transformers import TrainingArguments,Trainer, AdamW, AutoModelForSequenceClassification,AutoTokenizer, pipeline\n",
        "from sklearn import metrics"
      ]
    },
    {
      "cell_type": "code",
      "execution_count": 14,
      "metadata": {
        "id": "h9djAH0z2Mfz"
      },
      "outputs": [],
      "source": [
        "from transformers.data.processors.squad import SquadResult, SquadV1Processor, SquadV2Processor, squad_convert_examples_to_features, squad_convert_example_to_features_init\n",
        "from transformers import AutoTokenizer, AutoConfig, squad_convert_examples_to_features\n"
      ]
    },
    {
      "cell_type": "code",
      "execution_count": 15,
      "metadata": {
        "id": "QxFxV72uJFNr",
        "colab": {
          "base_uri": "https://localhost:8080/"
        },
        "outputId": "016e4be1-6492-4138-dc28-2a6ab18296e3"
      },
      "outputs": [
        {
          "output_type": "stream",
          "name": "stderr",
          "text": [
            "/usr/local/lib/python3.10/dist-packages/huggingface_hub/utils/_token.py:88: UserWarning: \n",
            "The secret `HF_TOKEN` does not exist in your Colab secrets.\n",
            "To authenticate with the Hugging Face Hub, create a token in your settings tab (https://huggingface.co/settings/tokens), set it as secret in your Google Colab and restart your session.\n",
            "You will be able to reuse this secret in all of your notebooks.\n",
            "Please note that authentication is recommended but still optional to access public models or datasets.\n",
            "  warnings.warn(\n"
          ]
        }
      ],
      "source": [
        "model_name = 'bert-base-uncased'\n",
        "tokenizer = AutoTokenizer.from_pretrained(model_name)"
      ]
    },
    {
      "cell_type": "code",
      "execution_count": 16,
      "metadata": {
        "id": "EiQneP6anjlH"
      },
      "outputs": [],
      "source": [
        "#  news_trfm = train_df + test_df\n",
        "#  news_ds = Dataset.from_pandas(news_trfm[[\"text\",\"label\"]])\n",
        "#  news_ds\n",
        "\n",
        "train_tfm = Dataset.from_pandas(train_df[[\"text\",\"label\"]])\n",
        "test_tfm = Dataset.from_pandas(test_df[[\"text\",\"label\"]])"
      ]
    },
    {
      "cell_type": "code",
      "execution_count": 17,
      "metadata": {
        "id": "7T9sLBitnTvs",
        "colab": {
          "base_uri": "https://localhost:8080/",
          "height": 150,
          "referenced_widgets": [
            "7da670cb00984bf784543aed5beccf34",
            "e5464d8f1c3c49ada85525d6a081ad58",
            "394822dc44394b4a9fb4eb9cbb8a345f",
            "4023d9339ce2447682d1d7ac1e975817",
            "879db1311f9e4ae4a972f56314512eab",
            "808744e0a70f4711b7dd2c9559f4f2c9",
            "7eac517f5c794f80a991b30f68bfe31d",
            "aea011e63bc44b728ffe21c48c4bd8a3",
            "ee9b3a9549e54cb6935c5d7f0abcf536",
            "a195ec129d764742a41a8614e920cccb",
            "3a82447a07cd4192bcce53e5406bc8cd",
            "c0be8c6da85448a19655ee40166cc603",
            "c7871f8706984f17a3c03b2643a9d6c0",
            "bb667d5356ee4dcd95440aa1b176129b",
            "5d20c6bc90b24d288db10598736d250f",
            "ea2cda7fba684cc18a9349421e79d428",
            "9cf929496a284c2d8397cb3cf955dc28",
            "5d3afe6996f64d77a1ecd22fe0c7c298",
            "917c554348d34c26b5a2682fecb80b00",
            "c6621eae9fab4163bfc070d4d17c1b21",
            "fc5105f87b864e7d91ffc65c225476e4",
            "8510d828bfad4547b3263218e9945955"
          ]
        },
        "outputId": "422050ed-782e-49f4-e7a7-c29852c20e08"
      },
      "outputs": [
        {
          "output_type": "display_data",
          "data": {
            "text/plain": [
              "Map:   0%|          | 0/35918 [00:00<?, ? examples/s]"
            ],
            "application/vnd.jupyter.widget-view+json": {
              "version_major": 2,
              "version_minor": 0,
              "model_id": "7da670cb00984bf784543aed5beccf34"
            }
          },
          "metadata": {}
        },
        {
          "output_type": "display_data",
          "data": {
            "text/plain": [
              "Map:   0%|          | 0/4489 [00:00<?, ? examples/s]"
            ],
            "application/vnd.jupyter.widget-view+json": {
              "version_major": 2,
              "version_minor": 0,
              "model_id": "c0be8c6da85448a19655ee40166cc603"
            }
          },
          "metadata": {}
        },
        {
          "output_type": "execute_result",
          "data": {
            "text/plain": [
              "Dataset({\n",
              "    features: ['text', 'label', 'input_ids', 'token_type_ids', 'attention_mask'],\n",
              "    num_rows: 4489\n",
              "})"
            ]
          },
          "metadata": {},
          "execution_count": 17
        }
      ],
      "source": [
        "def tok_func(x):\n",
        "  return tokenizer(x[\"text\"], padding=True, truncation=True, max_length=50, return_tensors=\"tf\",\n",
        "                   add_special_tokens = True)\n",
        "# news_ds = news_ds.map(tok_func, batched=True)\n",
        "# news_ds\n",
        "\n",
        "train_tfm = train_tfm.map(tok_func, batched=True)\n",
        "test_tfm = test_tfm.map(tok_func, batched=True)\n",
        "test_tfm\n",
        "# train_encodings = tokenizer(X_train.tolist(), truncation=True, padding=True, max_length=50, return_tensors=\"tf\",\n",
        "#                    add_special_tokens = True)\n",
        "# test_encodings = tokenizer(X_test.tolist(), truncation=True, padding=True, max_length=50, return_tensors=\"tf\",\n",
        "#                    add_special_tokens = True)"
      ]
    },
    {
      "cell_type": "code",
      "source": [
        "# # Create datasets\n",
        "# train_ds = CustomDataset(train_encodings, y_train)\n",
        "# test_ds = CustomDataset(test_encodings, y_test)"
      ],
      "metadata": {
        "id": "26DasqxQBfPX"
      },
      "execution_count": null,
      "outputs": []
    },
    {
      "cell_type": "code",
      "execution_count": null,
      "metadata": {
        "id": "B2Oisnyjn3kl"
      },
      "outputs": [],
      "source": [
        " #news_split = news_ds.train_test_split(0.25, seed=42)"
      ]
    },
    {
      "cell_type": "code",
      "execution_count": null,
      "metadata": {
        "colab": {
          "base_uri": "https://localhost:8080/",
          "height": 35
        },
        "id": "XWePcOqxvVd_",
        "outputId": "5c97e44b-8c3a-457c-e8ab-ba30d74216d1"
      },
      "outputs": [
        {
          "output_type": "execute_result",
          "data": {
            "text/plain": [
              "'0.27.2'"
            ],
            "application/vnd.google.colaboratory.intrinsic+json": {
              "type": "string"
            }
          },
          "metadata": {},
          "execution_count": 50
        }
      ],
      "source": [
        "import accelerate\n",
        "\n",
        "accelerate.__version__"
      ]
    },
    {
      "cell_type": "code",
      "execution_count": 18,
      "metadata": {
        "id": "R7DSZBYbspc2"
      },
      "outputs": [],
      "source": [
        "bs = 8\n",
        "epochs = 4\n",
        "lr = 1e-5\n",
        "\n",
        "args = TrainingArguments('outputs', learning_rate=lr, warmup_ratio=0.1, lr_scheduler_type='cosine', fp16=False, #fp16=True\n",
        "    evaluation_strategy=\"epoch\", per_device_train_batch_size=bs, per_device_eval_batch_size=bs*2,\n",
        "    num_train_epochs=epochs, weight_decay=0.01, report_to='none', optim=\"adamw_bnb_8bit\")"
      ]
    },
    {
      "cell_type": "code",
      "execution_count": 19,
      "metadata": {
        "id": "84iFE0vswGOQ",
        "colab": {
          "base_uri": "https://localhost:8080/",
          "height": 104,
          "referenced_widgets": [
            "12efe31f10a745e2ac9639ba05603160",
            "ec6a019a8e924a20939baf86a41c7c22",
            "a00b3b782d0d42eeaffda40eacdd6baf",
            "765bf5a372b54db38a959cf02d25f572",
            "6a85b630bca944e584f7f3e6c18d34d6",
            "ad6cdc53cd7b406f927e8ae78ea94fd2",
            "9d562b88d7784d36b9da55622f98d2ec",
            "85e62f2afaf74202b7b8be73de437a10",
            "49d9fc14c6d54d838204bc69c7035cf1",
            "007bd55ba7ca4008b1008765f6b58fa0",
            "407ffc06887b457f9345769464f86182"
          ]
        },
        "outputId": "9c2a509a-55c8-4f30-850e-1935384a71a8"
      },
      "outputs": [
        {
          "output_type": "display_data",
          "data": {
            "text/plain": [
              "model.safetensors:   0%|          | 0.00/440M [00:00<?, ?B/s]"
            ],
            "application/vnd.jupyter.widget-view+json": {
              "version_major": 2,
              "version_minor": 0,
              "model_id": "12efe31f10a745e2ac9639ba05603160"
            }
          },
          "metadata": {}
        },
        {
          "output_type": "stream",
          "name": "stderr",
          "text": [
            "Some weights of BertForSequenceClassification were not initialized from the model checkpoint at bert-base-uncased and are newly initialized: ['classifier.bias', 'classifier.weight']\n",
            "You should probably TRAIN this model on a down-stream task to be able to use it for predictions and inference.\n"
          ]
        }
      ],
      "source": [
        "model = AutoModelForSequenceClassification.from_pretrained(model_name, num_labels=1)"
      ]
    },
    {
      "cell_type": "code",
      "source": [
        "# def accuracy(pred):\n",
        "#     labels = pred.label_ids\n",
        "#     preds = pred.predictions.argmax(-1)\n",
        "#     return {\"accuracy\": (preds == labels).mean()}\n",
        "\n",
        "# def acc_metric(eval_pred):\n",
        "#     return {\"accuracy\": accuracy(*eval_pred)}\n",
        "\n",
        "# trainer = Trainer(model, args, train_dataset=train_ds, eval_dataset=test_ds,\n",
        "#                   tokenizer=tokenizer, compute_metrics=acc_metric)"
      ],
      "metadata": {
        "id": "oxUyKf49GLEG"
      },
      "execution_count": null,
      "outputs": []
    },
    {
      "cell_type": "code",
      "execution_count": 20,
      "metadata": {
        "id": "D1ewFDCGw4Db"
      },
      "outputs": [],
      "source": [
        "def accuracy(x, y):\n",
        "    return ((x > 0.5).reshape(-1) == y).mean()\n",
        "def acc_metric(eval_pred):\n",
        "    return {\"accuracy\": accuracy(*eval_pred)}\n",
        "\n",
        "# trainer = Trainer(model, args, train_dataset=news_split['train'], eval_dataset=news_split['test'],\n",
        "#                   tokenizer=tokenizer, compute_metrics=acc_metric)\n",
        "\n",
        "\n",
        "trainer = Trainer(model, args, train_dataset=train_tfm, eval_dataset=test_tfm,\n",
        "                  tokenizer=tokenizer, compute_metrics=acc_metric)\n"
      ]
    },
    {
      "cell_type": "code",
      "execution_count": 21,
      "metadata": {
        "id": "bFzKtRTchNRO",
        "colab": {
          "base_uri": "https://localhost:8080/",
          "height": 253
        },
        "outputId": "d4e497bb-e1a5-49fa-cbdc-f94c23aa056f"
      },
      "outputs": [
        {
          "output_type": "display_data",
          "data": {
            "text/plain": [
              "<IPython.core.display.HTML object>"
            ],
            "text/html": [
              "\n",
              "    <div>\n",
              "      \n",
              "      <progress value='17960' max='17960' style='width:300px; height:20px; vertical-align: middle;'></progress>\n",
              "      [17960/17960 35:05, Epoch 4/4]\n",
              "    </div>\n",
              "    <table border=\"1\" class=\"dataframe\">\n",
              "  <thead>\n",
              " <tr style=\"text-align: left;\">\n",
              "      <th>Epoch</th>\n",
              "      <th>Training Loss</th>\n",
              "      <th>Validation Loss</th>\n",
              "      <th>Accuracy</th>\n",
              "    </tr>\n",
              "  </thead>\n",
              "  <tbody>\n",
              "    <tr>\n",
              "      <td>1</td>\n",
              "      <td>0.001100</td>\n",
              "      <td>0.001819</td>\n",
              "      <td>0.998886</td>\n",
              "    </tr>\n",
              "    <tr>\n",
              "      <td>2</td>\n",
              "      <td>0.001300</td>\n",
              "      <td>0.000647</td>\n",
              "      <td>0.999332</td>\n",
              "    </tr>\n",
              "    <tr>\n",
              "      <td>3</td>\n",
              "      <td>0.000200</td>\n",
              "      <td>0.000331</td>\n",
              "      <td>0.999777</td>\n",
              "    </tr>\n",
              "    <tr>\n",
              "      <td>4</td>\n",
              "      <td>0.000700</td>\n",
              "      <td>0.000268</td>\n",
              "      <td>0.999777</td>\n",
              "    </tr>\n",
              "  </tbody>\n",
              "</table><p>"
            ]
          },
          "metadata": {}
        },
        {
          "output_type": "execute_result",
          "data": {
            "text/plain": [
              "TrainOutput(global_step=17960, training_loss=0.005347516185672485, metrics={'train_runtime': 2107.2843, 'train_samples_per_second': 68.179, 'train_steps_per_second': 8.523, 'total_flos': 3691538294877600.0, 'train_loss': 0.005347516185672485, 'epoch': 4.0})"
            ]
          },
          "metadata": {},
          "execution_count": 21
        }
      ],
      "source": [
        "trainer.train()"
      ]
    },
    {
      "cell_type": "code",
      "execution_count": null,
      "metadata": {
        "id": "IbKdXSPZT_n0",
        "colab": {
          "base_uri": "https://localhost:8080/",
          "height": 17
        },
        "outputId": "ea618446-74f7-49dc-db92-8cc1b21c1285"
      },
      "outputs": [
        {
          "output_type": "display_data",
          "data": {
            "text/plain": [
              "<IPython.core.display.HTML object>"
            ],
            "text/html": []
          },
          "metadata": {}
        },
        {
          "output_type": "display_data",
          "data": {
            "text/plain": [
              "<IPython.core.display.HTML object>"
            ],
            "text/html": []
          },
          "metadata": {}
        }
      ],
      "source": [
        "# y_pred_train = trainer.predict(news_split[\"train\"]).predictions\n",
        "# y_pred_test  = trainer.predict(news_split[\"test\"]).predictions"
      ]
    },
    {
      "cell_type": "code",
      "source": [
        "y_pred_train = trainer.predict(train_tfm).predictions\n",
        "y_pred_test  = trainer.predict(test_tfm).predictions"
      ],
      "metadata": {
        "id": "KJQlLI4kNQeI",
        "colab": {
          "base_uri": "https://localhost:8080/",
          "height": 17
        },
        "outputId": "e7fd155d-cb9d-4a65-f2f8-54533754d20b"
      },
      "execution_count": 22,
      "outputs": [
        {
          "output_type": "display_data",
          "data": {
            "text/plain": [
              "<IPython.core.display.HTML object>"
            ],
            "text/html": []
          },
          "metadata": {}
        },
        {
          "output_type": "display_data",
          "data": {
            "text/plain": [
              "<IPython.core.display.HTML object>"
            ],
            "text/html": []
          },
          "metadata": {}
        }
      ]
    },
    {
      "cell_type": "code",
      "execution_count": 23,
      "metadata": {
        "id": "fdfMhB6aUCN4"
      },
      "outputs": [],
      "source": [
        "y_pred_train = (y_pred_train.reshape(-1) > 0.5).astype(\"float\")\n",
        "y_pred_test  = (y_pred_test.reshape(-1) > 0.5).astype(\"float\")"
      ]
    },
    {
      "cell_type": "code",
      "execution_count": null,
      "metadata": {
        "id": "sQta6Fv1UFlU"
      },
      "outputs": [],
      "source": [
        "y_pred_train"
      ]
    },
    {
      "cell_type": "code",
      "execution_count": 24,
      "metadata": {
        "colab": {
          "base_uri": "https://localhost:8080/"
        },
        "id": "SvZAsuV7UG9o",
        "outputId": "9988a8bc-c68a-4ea7-e775-a3e044abf1a6"
      },
      "outputs": [
        {
          "output_type": "stream",
          "name": "stdout",
          "text": [
            "              precision    recall  f1-score   support\n",
            "\n",
            "         0.0       1.00      1.00      1.00     18813\n",
            "         1.0       1.00      1.00      1.00     17105\n",
            "\n",
            "    accuracy                           1.00     35918\n",
            "   macro avg       1.00      1.00      1.00     35918\n",
            "weighted avg       1.00      1.00      1.00     35918\n",
            "\n"
          ]
        }
      ],
      "source": [
        "print(metrics.classification_report(train_tfm[\"label\"], y_pred_train, zero_division=0))"
      ]
    },
    {
      "cell_type": "code",
      "execution_count": 25,
      "metadata": {
        "colab": {
          "base_uri": "https://localhost:8080/"
        },
        "id": "fYCUXcUSUIY-",
        "outputId": "5144a1fa-4a49-4db6-f1c4-26e53f3784c8"
      },
      "outputs": [
        {
          "output_type": "stream",
          "name": "stdout",
          "text": [
            "              precision    recall  f1-score   support\n",
            "\n",
            "         0.0       1.00      1.00      1.00      2376\n",
            "         1.0       1.00      1.00      1.00      2113\n",
            "\n",
            "    accuracy                           1.00      4489\n",
            "   macro avg       1.00      1.00      1.00      4489\n",
            "weighted avg       1.00      1.00      1.00      4489\n",
            "\n"
          ]
        }
      ],
      "source": [
        "print(metrics.classification_report(test_tfm[\"label\"], y_pred_test, zero_division=0))"
      ]
    },
    {
      "cell_type": "code",
      "source": [
        "trainer.save_model(\"./transformer\")"
      ],
      "metadata": {
        "id": "y52fcH53YGf1"
      },
      "execution_count": 28,
      "outputs": []
    },
    {
      "cell_type": "code",
      "source": [
        "from google.colab import files\n",
        "import shutil\n",
        "\n",
        "# Compress the saved model folder into a zip file\n",
        "shutil.make_archive(\"./transformer\", \"zip\", \"transformer\")\n",
        "\n",
        "# Download the zip file to your local machine\n",
        "files.download(\"transformer.zip\")\n"
      ],
      "metadata": {
        "colab": {
          "base_uri": "https://localhost:8080/",
          "height": 34
        },
        "id": "P85mSrmubDc4",
        "outputId": "88e46953-596d-43c0-94cc-76571985be44"
      },
      "execution_count": 29,
      "outputs": [
        {
          "output_type": "display_data",
          "data": {
            "text/plain": [
              "<IPython.core.display.Javascript object>"
            ],
            "application/javascript": [
              "\n",
              "    async function download(id, filename, size) {\n",
              "      if (!google.colab.kernel.accessAllowed) {\n",
              "        return;\n",
              "      }\n",
              "      const div = document.createElement('div');\n",
              "      const label = document.createElement('label');\n",
              "      label.textContent = `Downloading \"${filename}\": `;\n",
              "      div.appendChild(label);\n",
              "      const progress = document.createElement('progress');\n",
              "      progress.max = size;\n",
              "      div.appendChild(progress);\n",
              "      document.body.appendChild(div);\n",
              "\n",
              "      const buffers = [];\n",
              "      let downloaded = 0;\n",
              "\n",
              "      const channel = await google.colab.kernel.comms.open(id);\n",
              "      // Send a message to notify the kernel that we're ready.\n",
              "      channel.send({})\n",
              "\n",
              "      for await (const message of channel.messages) {\n",
              "        // Send a message to notify the kernel that we're ready.\n",
              "        channel.send({})\n",
              "        if (message.buffers) {\n",
              "          for (const buffer of message.buffers) {\n",
              "            buffers.push(buffer);\n",
              "            downloaded += buffer.byteLength;\n",
              "            progress.value = downloaded;\n",
              "          }\n",
              "        }\n",
              "      }\n",
              "      const blob = new Blob(buffers, {type: 'application/binary'});\n",
              "      const a = document.createElement('a');\n",
              "      a.href = window.URL.createObjectURL(blob);\n",
              "      a.download = filename;\n",
              "      div.appendChild(a);\n",
              "      a.click();\n",
              "      div.remove();\n",
              "    }\n",
              "  "
            ]
          },
          "metadata": {}
        },
        {
          "output_type": "display_data",
          "data": {
            "text/plain": [
              "<IPython.core.display.Javascript object>"
            ],
            "application/javascript": [
              "download(\"download_93fa3ab9-16e8-40d5-bbbd-d9987476a590\", \"transformer.zip\", 405905705)"
            ]
          },
          "metadata": {}
        }
      ]
    },
    {
      "cell_type": "markdown",
      "metadata": {
        "id": "bF8ZPO4kF7pi"
      },
      "source": [
        "##SVM- Aiesha Ayub"
      ]
    },
    {
      "cell_type": "code",
      "execution_count": null,
      "metadata": {
        "id": "i2U3h1oKtHoC"
      },
      "outputs": [],
      "source": [
        "X = news[\"text\"]\n",
        "y = news[\"label\"]\n",
        "\n",
        "X_train, X_test, y_train, y_test = train_test_split(X, y, test_size=0.2, random_state=0)"
      ]
    },
    {
      "cell_type": "code",
      "execution_count": null,
      "metadata": {
        "id": "mucskVCftJhL"
      },
      "outputs": [],
      "source": [
        "cv = CountVectorizer(max_features=10000, stop_words='english')\n",
        "X_train = cv.fit_transform(X_train)\n",
        "\n",
        "tfidf = TfidfTransformer(use_idf=True)\n",
        "X_train = tfidf.fit_transform(X_train)"
      ]
    },
    {
      "cell_type": "code",
      "execution_count": null,
      "metadata": {
        "id": "qebisfbAtLa8"
      },
      "outputs": [],
      "source": [
        "X_test = cv.transform(X_test)\n",
        "X_test = tfidf.transform(X_test)"
      ]
    },
    {
      "cell_type": "code",
      "execution_count": null,
      "metadata": {
        "id": "WZPjewoVtNWa"
      },
      "outputs": [],
      "source": [
        "# Create a classifier model\n",
        "SVM_classifier = SGDClassifier()\n",
        "\n",
        "# Then train the model using the training sets\n",
        "SVM_classifier = SVM_classifier.fit(X_train, y_train)"
      ]
    },
    {
      "cell_type": "code",
      "execution_count": null,
      "metadata": {
        "colab": {
          "base_uri": "https://localhost:8080/"
        },
        "id": "EHY30I7TtPRL",
        "outputId": "0ac8de54-304b-4147-ccd8-792e3713c84a"
      },
      "outputs": [
        {
          "data": {
            "text/plain": [
              "0    0.522985\n",
              "1    0.477015\n",
              "Name: label, dtype: float64"
            ]
          },
          "execution_count": 12,
          "metadata": {},
          "output_type": "execute_result"
        }
      ],
      "source": [
        "# First, what's the worst the model could do?\n",
        "y.value_counts(normalize=True)"
      ]
    },
    {
      "cell_type": "code",
      "execution_count": null,
      "metadata": {
        "colab": {
          "base_uri": "https://localhost:8080/"
        },
        "id": "SvyLKjPBtRGU",
        "outputId": "187f76c7-c142-49f5-b0bb-86eb02d514d4"
      },
      "outputs": [
        {
          "data": {
            "text/plain": [
              "0.9939027785511443"
            ]
          },
          "execution_count": 13,
          "metadata": {},
          "output_type": "execute_result"
        }
      ],
      "source": [
        "# How well did the model do on the training data?\n",
        "# Compare the predictions with the\n",
        "y_pred_train = SVM_classifier.predict(X_train)\n",
        "metrics.accuracy_score(y_train, y_pred_train)"
      ]
    },
    {
      "cell_type": "code",
      "execution_count": null,
      "metadata": {
        "colab": {
          "base_uri": "https://localhost:8080/"
        },
        "id": "8n6PHgXGtS4-",
        "outputId": "c1260074-d159-4cfa-8e98-09ce3bedae0a"
      },
      "outputs": [
        {
          "data": {
            "text/plain": [
              "0.9920935412026726"
            ]
          },
          "execution_count": 14,
          "metadata": {},
          "output_type": "execute_result"
        }
      ],
      "source": [
        "# Now, determine how well it did on the testing set\n",
        "# It will be lower, but hopefully not too much.\n",
        "# If it's anywhere near random guessing, we've got a bad fit.\n",
        "y_pred_test = SVM_classifier.predict(X_test)\n",
        "metrics.accuracy_score(y_test, y_pred_test)"
      ]
    },
    {
      "cell_type": "code",
      "execution_count": null,
      "metadata": {
        "colab": {
          "base_uri": "https://localhost:8080/"
        },
        "id": "dyhwlEebuhhj",
        "outputId": "5edcec12-6a10-4a01-da58-6fafcc327b8b"
      },
      "outputs": [
        {
          "name": "stdout",
          "output_type": "stream",
          "text": [
            "              precision    recall  f1-score   support\n",
            "\n",
            "           0       0.99      0.99      0.99      4713\n",
            "           1       0.99      0.99      0.99      4267\n",
            "\n",
            "    accuracy                           0.99      8980\n",
            "   macro avg       0.99      0.99      0.99      8980\n",
            "weighted avg       0.99      0.99      0.99      8980\n",
            "\n"
          ]
        }
      ],
      "source": [
        "# Print out a report of how wel the classifier does\n",
        "# precision of X = If I predict something is X, what % of the time am I right?\n",
        "# recall of X = what % of X do I find?\n",
        "print(metrics.classification_report(y_test, y_pred_test, zero_division=0))"
      ]
    },
    {
      "cell_type": "code",
      "execution_count": null,
      "metadata": {
        "colab": {
          "base_uri": "https://localhost:8080/",
          "height": 578
        },
        "id": "rstpIH0CumnX",
        "outputId": "d950075d-ee9a-4c5c-ea19-324b73c6164e"
      },
      "outputs": [
        {
          "data": {
            "image/png": "[encoded data removed]",
            "text/plain": [
              "<Figure size 800x600 with 1 Axes>"
            ]
          },
          "metadata": {},
          "output_type": "display_data"
        }
      ],
      "source": [
        "import seaborn as sns\n",
        "from sklearn.metrics import confusion_matrix\n",
        "\n",
        "conf_matrix = confusion_matrix(y_test, y_pred_test)\n",
        "\n",
        "plt.figure(figsize=(8, 6))\n",
        "sns.set(font_scale=1.2)\n",
        "sns.heatmap(conf_matrix, annot=True, fmt='g', cmap='Blues', cbar=False,\n",
        "            xticklabels=['Fake', 'Real'], yticklabels=['Fake', 'Real'])\n",
        "plt.xlabel('Predicted Label')\n",
        "plt.ylabel('True Label')\n",
        "plt.title('Confusion Matrix')\n",
        "plt.show()"
      ]
    },
    {
      "cell_type": "markdown",
      "metadata": {
        "id": "rf3ob8l3GB2K"
      },
      "source": [
        "##Naive Bayes- Jialene"
      ]
    },
    {
      "cell_type": "code",
      "execution_count": null,
      "metadata": {
        "colab": {
          "base_uri": "https://localhost:8080/"
        },
        "id": "0v9FzqGCGFCL",
        "outputId": "d2fb024b-32fc-4780-9bf4-936196545896"
      },
      "outputs": [
        {
          "name": "stdout",
          "output_type": "stream",
          "text": [
            "<class 'pandas.core.frame.DataFrame'>\n",
            "RangeIndex: 44898 entries, 0 to 44897\n",
            "Data columns (total 5 columns):\n",
            " #   Column   Non-Null Count  Dtype  \n",
            "---  ------   --------------  -----  \n",
            " 0   title    44898 non-null  object \n",
            " 1   text     44898 non-null  object \n",
            " 2   subject  44898 non-null  object \n",
            " 3   date     44898 non-null  object \n",
            " 4   label    44898 non-null  float64\n",
            "dtypes: float64(1), object(4)\n",
            "memory usage: 1.7+ MB\n"
          ]
        }
      ],
      "source": [
        "news.info()"
      ]
    },
    {
      "cell_type": "code",
      "execution_count": null,
      "metadata": {
        "id": "jHw9zl6SGFsS"
      },
      "outputs": [],
      "source": [
        "X = news[\"text\"]\n",
        "y = news[\"label\"]\n",
        "\n",
        "X_train, X_test, y_train, y_test = train_test_split(X, y, test_size=0.2, random_state=0)"
      ]
    },
    {
      "cell_type": "code",
      "execution_count": null,
      "metadata": {
        "id": "7m5DgEZPCguM"
      },
      "outputs": [],
      "source": [
        "cv    = CountVectorizer(max_features=10000, stop_words='english')\n",
        "X_train = cv.fit_transform(X_train)\n",
        "\n",
        "tfidf = TfidfTransformer(use_idf=True)\n",
        "X_train = tfidf.fit_transform(X_train)"
      ]
    },
    {
      "cell_type": "code",
      "execution_count": null,
      "metadata": {
        "id": "JyIqut3sCgqg"
      },
      "outputs": [],
      "source": [
        "X_test = cv.transform(X_test)\n",
        "X_test = tfidf.transform(X_test)"
      ]
    },
    {
      "cell_type": "code",
      "execution_count": null,
      "metadata": {
        "id": "6yiC81VgCgeB"
      },
      "outputs": [],
      "source": [
        "NB_classifier = MultinomialNB()\n",
        "NB_classifier = NB_classifier.fit(X_train, y_train)"
      ]
    },
    {
      "cell_type": "code",
      "execution_count": null,
      "metadata": {
        "colab": {
          "base_uri": "https://localhost:8080/"
        },
        "id": "F2bHKsWzCs8I",
        "outputId": "0235f97c-dd74-4d73-be61-9b70165b51b5"
      },
      "outputs": [
        {
          "data": {
            "text/plain": [
              "0.0    0.522985\n",
              "1.0    0.477015\n",
              "Name: label, dtype: float64"
            ]
          },
          "execution_count": 12,
          "metadata": {},
          "output_type": "execute_result"
        }
      ],
      "source": [
        "y.value_counts(normalize=True)"
      ]
    },
    {
      "cell_type": "code",
      "execution_count": null,
      "metadata": {
        "colab": {
          "base_uri": "https://localhost:8080/"
        },
        "id": "xQnZUeRBCvje",
        "outputId": "85d7bf1b-2cd4-4a15-99c8-da764021c726"
      },
      "outputs": [
        {
          "name": "stdout",
          "output_type": "stream",
          "text": [
            "0.9358260482209477\n",
            "0.9316258351893095\n"
          ]
        }
      ],
      "source": [
        "y_pred_train = NB_classifier.predict(X_train)\n",
        "print(metrics.accuracy_score(y_train, y_pred_train))\n",
        "\n",
        "y_pred_test = NB_classifier.predict(X_test)\n",
        "print(metrics.accuracy_score(y_test, y_pred_test))"
      ]
    },
    {
      "cell_type": "code",
      "execution_count": null,
      "metadata": {
        "colab": {
          "base_uri": "https://localhost:8080/"
        },
        "id": "Uaps7F-bCyTS",
        "outputId": "f6c3a457-abf3-47d7-f9ce-7f190262d107"
      },
      "outputs": [
        {
          "name": "stdout",
          "output_type": "stream",
          "text": [
            "              precision    recall  f1-score   support\n",
            "\n",
            "         0.0       0.93      0.94      0.93      4684\n",
            "         1.0       0.93      0.92      0.93      4296\n",
            "\n",
            "    accuracy                           0.93      8980\n",
            "   macro avg       0.93      0.93      0.93      8980\n",
            "weighted avg       0.93      0.93      0.93      8980\n",
            "\n"
          ]
        }
      ],
      "source": [
        "print(metrics.classification_report(y_test, y_pred_test, zero_division=0))"
      ]
    },
    {
      "cell_type": "code",
      "execution_count": null,
      "metadata": {
        "colab": {
          "base_uri": "https://localhost:8080/"
        },
        "id": "tTDIylASER5C",
        "outputId": "8aa78b96-a9b2-4195-aba1-20fb4a19423f"
      },
      "outputs": [
        {
          "data": {
            "text/plain": [
              "array([0.])"
            ]
          },
          "execution_count": 18,
          "metadata": {},
          "output_type": "execute_result"
        }
      ],
      "source": [
        "new_obs = [\"The true story of a man who robbed a thousand banks.\"]\n",
        "\n",
        "new_obs = cv.transform(new_obs)\n",
        "new_obs = tfidf.transform(new_obs)\n",
        "classifier.predict(new_obs)"
      ]
    },
    {
      "cell_type": "markdown",
      "source": [
        "## Ensemble model\n"
      ],
      "metadata": {
        "id": "ro9qDtNheaAv"
      }
    },
    {
      "cell_type": "code",
      "source": [
        "from sklearn.model_selection import GridSearchCV\n"
      ],
      "metadata": {
        "id": "UBHN0VIACoGw"
      },
      "execution_count": null,
      "outputs": []
    },
    {
      "cell_type": "code",
      "source": [
        "from sklearn.ensemble import VotingClassifier\n",
        "#create a dictionary of our models\n",
        "estimators=[('rnn', rnn), ('transformer', transformer), ('svm', SVM_classifier), ('nb', NB_classifier)]\n",
        "#create our voting classifier, inputting our models\n",
        "ensemble = VotingClassifier(estimators, voting='hard')\n"
      ],
      "metadata": {
        "id": "7xfoGHyReZVm"
      },
      "execution_count": null,
      "outputs": []
    },
    {
      "cell_type": "code",
      "source": [
        "#fit model to training data\n",
        "ensemble.fit(X_train, y_train)\n",
        "#test our model on the test data\n",
        "ensemble.score(X_test, y_test)"
      ],
      "metadata": {
        "id": "qEJi4ainfo1x"
      },
      "execution_count": null,
      "outputs": []
    },
    {
      "cell_type": "markdown",
      "source": [
        "#Testing new dataset\n",
        "Find new dataset"
      ],
      "metadata": {
        "id": "YM4ImFGCfxTV"
      }
    }
  ],
  "metadata": {
    "accelerator": "GPU",
    "colab": {
      "gpuType": "T4",
      "provenance": [],
      "include_colab_link": true
    },
    "kernelspec": {
      "display_name": "Python 3",
      "name": "python3"
    },
    "language_info": {
      "name": "python"
    },
    "widgets": {
      "application/vnd.jupyter.widget-state+json": {
        "7da670cb00984bf784543aed5beccf34": {
          "model_module": "@jupyter-widgets/controls",
          "model_name": "HBoxModel",
          "model_module_version": "1.5.0",
          "state": {
            "_dom_classes": [],
            "_model_module": "@jupyter-widgets/controls",
            "_model_module_version": "1.5.0",
            "_model_name": "HBoxModel",
            "_view_count": null,
            "_view_module": "@jupyter-widgets/controls",
            "_view_module_version": "1.5.0",
            "_view_name": "HBoxView",
            "box_style": "",
            "children": [
              "IPY_MODEL_e5464d8f1c3c49ada85525d6a081ad58",
              "IPY_MODEL_394822dc44394b4a9fb4eb9cbb8a345f",
              "IPY_MODEL_4023d9339ce2447682d1d7ac1e975817"
            ],
            "layout": "IPY_MODEL_879db1311f9e4ae4a972f56314512eab"
          }
        },
        "e5464d8f1c3c49ada85525d6a081ad58": {
          "model_module": "@jupyter-widgets/controls",
          "model_name": "HTMLModel",
          "model_module_version": "1.5.0",
          "state": {
            "_dom_classes": [],
            "_model_module": "@jupyter-widgets/controls",
            "_model_module_version": "1.5.0",
            "_model_name": "HTMLModel",
            "_view_count": null,
            "_view_module": "@jupyter-widgets/controls",
            "_view_module_version": "1.5.0",
            "_view_name": "HTMLView",
            "description": "",
            "description_tooltip": null,
            "layout": "IPY_MODEL_808744e0a70f4711b7dd2c9559f4f2c9",
            "placeholder": "​",
            "style": "IPY_MODEL_7eac517f5c794f80a991b30f68bfe31d",
            "value": "Map: 100%"
          }
        },
        "394822dc44394b4a9fb4eb9cbb8a345f": {
          "model_module": "@jupyter-widgets/controls",
          "model_name": "FloatProgressModel",
          "model_module_version": "1.5.0",
          "state": {
            "_dom_classes": [],
            "_model_module": "@jupyter-widgets/controls",
            "_model_module_version": "1.5.0",
            "_model_name": "FloatProgressModel",
            "_view_count": null,
            "_view_module": "@jupyter-widgets/controls",
            "_view_module_version": "1.5.0",
            "_view_name": "ProgressView",
            "bar_style": "success",
            "description": "",
            "description_tooltip": null,
            "layout": "IPY_MODEL_aea011e63bc44b728ffe21c48c4bd8a3",
            "max": 35918,
            "min": 0,
            "orientation": "horizontal",
            "style": "IPY_MODEL_ee9b3a9549e54cb6935c5d7f0abcf536",
            "value": 35918
          }
        },
        "4023d9339ce2447682d1d7ac1e975817": {
          "model_module": "@jupyter-widgets/controls",
          "model_name": "HTMLModel",
          "model_module_version": "1.5.0",
          "state": {
            "_dom_classes": [],
            "_model_module": "@jupyter-widgets/controls",
            "_model_module_version": "1.5.0",
            "_model_name": "HTMLModel",
            "_view_count": null,
            "_view_module": "@jupyter-widgets/controls",
            "_view_module_version": "1.5.0",
            "_view_name": "HTMLView",
            "description": "",
            "description_tooltip": null,
            "layout": "IPY_MODEL_a195ec129d764742a41a8614e920cccb",
            "placeholder": "​",
            "style": "IPY_MODEL_3a82447a07cd4192bcce53e5406bc8cd",
            "value": " 35918/35918 [01:32&lt;00:00, 605.85 examples/s]"
          }
        },
        "879db1311f9e4ae4a972f56314512eab": {
          "model_module": "@jupyter-widgets/base",
          "model_name": "LayoutModel",
          "model_module_version": "1.2.0",
          "state": {
            "_model_module": "@jupyter-widgets/base",
            "_model_module_version": "1.2.0",
            "_model_name": "LayoutModel",
            "_view_count": null,
            "_view_module": "@jupyter-widgets/base",
            "_view_module_version": "1.2.0",
            "_view_name": "LayoutView",
            "align_content": null,
            "align_items": null,
            "align_self": null,
            "border": null,
            "bottom": null,
            "display": null,
            "flex": null,
            "flex_flow": null,
            "grid_area": null,
            "grid_auto_columns": null,
            "grid_auto_flow": null,
            "grid_auto_rows": null,
            "grid_column": null,
            "grid_gap": null,
            "grid_row": null,
            "grid_template_areas": null,
            "grid_template_columns": null,
            "grid_template_rows": null,
            "height": null,
            "justify_content": null,
            "justify_items": null,
            "left": null,
            "margin": null,
            "max_height": null,
            "max_width": null,
            "min_height": null,
            "min_width": null,
            "object_fit": null,
            "object_position": null,
            "order": null,
            "overflow": null,
            "overflow_x": null,
            "overflow_y": null,
            "padding": null,
            "right": null,
            "top": null,
            "visibility": null,
            "width": null
          }
        },
        "808744e0a70f4711b7dd2c9559f4f2c9": {
          "model_module": "@jupyter-widgets/base",
          "model_name": "LayoutModel",
          "model_module_version": "1.2.0",
          "state": {
            "_model_module": "@jupyter-widgets/base",
            "_model_module_version": "1.2.0",
            "_model_name": "LayoutModel",
            "_view_count": null,
            "_view_module": "@jupyter-widgets/base",
            "_view_module_version": "1.2.0",
            "_view_name": "LayoutView",
            "align_content": null,
            "align_items": null,
            "align_self": null,
            "border": null,
            "bottom": null,
            "display": null,
            "flex": null,
            "flex_flow": null,
            "grid_area": null,
            "grid_auto_columns": null,
            "grid_auto_flow": null,
            "grid_auto_rows": null,
            "grid_column": null,
            "grid_gap": null,
            "grid_row": null,
            "grid_template_areas": null,
            "grid_template_columns": null,
            "grid_template_rows": null,
            "height": null,
            "justify_content": null,
            "justify_items": null,
            "left": null,
            "margin": null,
            "max_height": null,
            "max_width": null,
            "min_height": null,
            "min_width": null,
            "object_fit": null,
            "object_position": null,
            "order": null,
            "overflow": null,
            "overflow_x": null,
            "overflow_y": null,
            "padding": null,
            "right": null,
            "top": null,
            "visibility": null,
            "width": null
          }
        },
        "7eac517f5c794f80a991b30f68bfe31d": {
          "model_module": "@jupyter-widgets/controls",
          "model_name": "DescriptionStyleModel",
          "model_module_version": "1.5.0",
          "state": {
            "_model_module": "@jupyter-widgets/controls",
            "_model_module_version": "1.5.0",
            "_model_name": "DescriptionStyleModel",
            "_view_count": null,
            "_view_module": "@jupyter-widgets/base",
            "_view_module_version": "1.2.0",
            "_view_name": "StyleView",
            "description_width": ""
          }
        },
        "aea011e63bc44b728ffe21c48c4bd8a3": {
          "model_module": "@jupyter-widgets/base",
          "model_name": "LayoutModel",
          "model_module_version": "1.2.0",
          "state": {
            "_model_module": "@jupyter-widgets/base",
            "_model_module_version": "1.2.0",
            "_model_name": "LayoutModel",
            "_view_count": null,
            "_view_module": "@jupyter-widgets/base",
            "_view_module_version": "1.2.0",
            "_view_name": "LayoutView",
            "align_content": null,
            "align_items": null,
            "align_self": null,
            "border": null,
            "bottom": null,
            "display": null,
            "flex": null,
            "flex_flow": null,
            "grid_area": null,
            "grid_auto_columns": null,
            "grid_auto_flow": null,
            "grid_auto_rows": null,
            "grid_column": null,
            "grid_gap": null,
            "grid_row": null,
            "grid_template_areas": null,
            "grid_template_columns": null,
            "grid_template_rows": null,
            "height": null,
            "justify_content": null,
            "justify_items": null,
            "left": null,
            "margin": null,
            "max_height": null,
            "max_width": null,
            "min_height": null,
            "min_width": null,
            "object_fit": null,
            "object_position": null,
            "order": null,
            "overflow": null,
            "overflow_x": null,
            "overflow_y": null,
            "padding": null,
            "right": null,
            "top": null,
            "visibility": null,
            "width": null
          }
        },
        "ee9b3a9549e54cb6935c5d7f0abcf536": {
          "model_module": "@jupyter-widgets/controls",
          "model_name": "ProgressStyleModel",
          "model_module_version": "1.5.0",
          "state": {
            "_model_module": "@jupyter-widgets/controls",
            "_model_module_version": "1.5.0",
            "_model_name": "ProgressStyleModel",
            "_view_count": null,
            "_view_module": "@jupyter-widgets/base",
            "_view_module_version": "1.2.0",
            "_view_name": "StyleView",
            "bar_color": null,
            "description_width": ""
          }
        },
        "a195ec129d764742a41a8614e920cccb": {
          "model_module": "@jupyter-widgets/base",
          "model_name": "LayoutModel",
          "model_module_version": "1.2.0",
          "state": {
            "_model_module": "@jupyter-widgets/base",
            "_model_module_version": "1.2.0",
            "_model_name": "LayoutModel",
            "_view_count": null,
            "_view_module": "@jupyter-widgets/base",
            "_view_module_version": "1.2.0",
            "_view_name": "LayoutView",
            "align_content": null,
            "align_items": null,
            "align_self": null,
            "border": null,
            "bottom": null,
            "display": null,
            "flex": null,
            "flex_flow": null,
            "grid_area": null,
            "grid_auto_columns": null,
            "grid_auto_flow": null,
            "grid_auto_rows": null,
            "grid_column": null,
            "grid_gap": null,
            "grid_row": null,
            "grid_template_areas": null,
            "grid_template_columns": null,
            "grid_template_rows": null,
            "height": null,
            "justify_content": null,
            "justify_items": null,
            "left": null,
            "margin": null,
            "max_height": null,
            "max_width": null,
            "min_height": null,
            "min_width": null,
            "object_fit": null,
            "object_position": null,
            "order": null,
            "overflow": null,
            "overflow_x": null,
            "overflow_y": null,
            "padding": null,
            "right": null,
            "top": null,
            "visibility": null,
            "width": null
          }
        },
        "3a82447a07cd4192bcce53e5406bc8cd": {
          "model_module": "@jupyter-widgets/controls",
          "model_name": "DescriptionStyleModel",
          "model_module_version": "1.5.0",
          "state": {
            "_model_module": "@jupyter-widgets/controls",
            "_model_module_version": "1.5.0",
            "_model_name": "DescriptionStyleModel",
            "_view_count": null,
            "_view_module": "@jupyter-widgets/base",
            "_view_module_version": "1.2.0",
            "_view_name": "StyleView",
            "description_width": ""
          }
        },
        "c0be8c6da85448a19655ee40166cc603": {
          "model_module": "@jupyter-widgets/controls",
          "model_name": "HBoxModel",
          "model_module_version": "1.5.0",
          "state": {
            "_dom_classes": [],
            "_model_module": "@jupyter-widgets/controls",
            "_model_module_version": "1.5.0",
            "_model_name": "HBoxModel",
            "_view_count": null,
            "_view_module": "@jupyter-widgets/controls",
            "_view_module_version": "1.5.0",
            "_view_name": "HBoxView",
            "box_style": "",
            "children": [
              "IPY_MODEL_c7871f8706984f17a3c03b2643a9d6c0",
              "IPY_MODEL_bb667d5356ee4dcd95440aa1b176129b",
              "IPY_MODEL_5d20c6bc90b24d288db10598736d250f"
            ],
            "layout": "IPY_MODEL_ea2cda7fba684cc18a9349421e79d428"
          }
        },
        "c7871f8706984f17a3c03b2643a9d6c0": {
          "model_module": "@jupyter-widgets/controls",
          "model_name": "HTMLModel",
          "model_module_version": "1.5.0",
          "state": {
            "_dom_classes": [],
            "_model_module": "@jupyter-widgets/controls",
            "_model_module_version": "1.5.0",
            "_model_name": "HTMLModel",
            "_view_count": null,
            "_view_module": "@jupyter-widgets/controls",
            "_view_module_version": "1.5.0",
            "_view_name": "HTMLView",
            "description": "",
            "description_tooltip": null,
            "layout": "IPY_MODEL_9cf929496a284c2d8397cb3cf955dc28",
            "placeholder": "​",
            "style": "IPY_MODEL_5d3afe6996f64d77a1ecd22fe0c7c298",
            "value": "Map: 100%"
          }
        },
        "bb667d5356ee4dcd95440aa1b176129b": {
          "model_module": "@jupyter-widgets/controls",
          "model_name": "FloatProgressModel",
          "model_module_version": "1.5.0",
          "state": {
            "_dom_classes": [],
            "_model_module": "@jupyter-widgets/controls",
            "_model_module_version": "1.5.0",
            "_model_name": "FloatProgressModel",
            "_view_count": null,
            "_view_module": "@jupyter-widgets/controls",
            "_view_module_version": "1.5.0",
            "_view_name": "ProgressView",
            "bar_style": "success",
            "description": "",
            "description_tooltip": null,
            "layout": "IPY_MODEL_917c554348d34c26b5a2682fecb80b00",
            "max": 4489,
            "min": 0,
            "orientation": "horizontal",
            "style": "IPY_MODEL_c6621eae9fab4163bfc070d4d17c1b21",
            "value": 4489
          }
        },
        "5d20c6bc90b24d288db10598736d250f": {
          "model_module": "@jupyter-widgets/controls",
          "model_name": "HTMLModel",
          "model_module_version": "1.5.0",
          "state": {
            "_dom_classes": [],
            "_model_module": "@jupyter-widgets/controls",
            "_model_module_version": "1.5.0",
            "_model_name": "HTMLModel",
            "_view_count": null,
            "_view_module": "@jupyter-widgets/controls",
            "_view_module_version": "1.5.0",
            "_view_name": "HTMLView",
            "description": "",
            "description_tooltip": null,
            "layout": "IPY_MODEL_fc5105f87b864e7d91ffc65c225476e4",
            "placeholder": "​",
            "style": "IPY_MODEL_8510d828bfad4547b3263218e9945955",
            "value": " 4489/4489 [00:08&lt;00:00, 535.12 examples/s]"
          }
        },
        "ea2cda7fba684cc18a9349421e79d428": {
          "model_module": "@jupyter-widgets/base",
          "model_name": "LayoutModel",
          "model_module_version": "1.2.0",
          "state": {
            "_model_module": "@jupyter-widgets/base",
            "_model_module_version": "1.2.0",
            "_model_name": "LayoutModel",
            "_view_count": null,
            "_view_module": "@jupyter-widgets/base",
            "_view_module_version": "1.2.0",
            "_view_name": "LayoutView",
            "align_content": null,
            "align_items": null,
            "align_self": null,
            "border": null,
            "bottom": null,
            "display": null,
            "flex": null,
            "flex_flow": null,
            "grid_area": null,
            "grid_auto_columns": null,
            "grid_auto_flow": null,
            "grid_auto_rows": null,
            "grid_column": null,
            "grid_gap": null,
            "grid_row": null,
            "grid_template_areas": null,
            "grid_template_columns": null,
            "grid_template_rows": null,
            "height": null,
            "justify_content": null,
            "justify_items": null,
            "left": null,
            "margin": null,
            "max_height": null,
            "max_width": null,
            "min_height": null,
            "min_width": null,
            "object_fit": null,
            "object_position": null,
            "order": null,
            "overflow": null,
            "overflow_x": null,
            "overflow_y": null,
            "padding": null,
            "right": null,
            "top": null,
            "visibility": null,
            "width": null
          }
        },
        "9cf929496a284c2d8397cb3cf955dc28": {
          "model_module": "@jupyter-widgets/base",
          "model_name": "LayoutModel",
          "model_module_version": "1.2.0",
          "state": {
            "_model_module": "@jupyter-widgets/base",
            "_model_module_version": "1.2.0",
            "_model_name": "LayoutModel",
            "_view_count": null,
            "_view_module": "@jupyter-widgets/base",
            "_view_module_version": "1.2.0",
            "_view_name": "LayoutView",
            "align_content": null,
            "align_items": null,
            "align_self": null,
            "border": null,
            "bottom": null,
            "display": null,
            "flex": null,
            "flex_flow": null,
            "grid_area": null,
            "grid_auto_columns": null,
            "grid_auto_flow": null,
            "grid_auto_rows": null,
            "grid_column": null,
            "grid_gap": null,
            "grid_row": null,
            "grid_template_areas": null,
            "grid_template_columns": null,
            "grid_template_rows": null,
            "height": null,
            "justify_content": null,
            "justify_items": null,
            "left": null,
            "margin": null,
            "max_height": null,
            "max_width": null,
            "min_height": null,
            "min_width": null,
            "object_fit": null,
            "object_position": null,
            "order": null,
            "overflow": null,
            "overflow_x": null,
            "overflow_y": null,
            "padding": null,
            "right": null,
            "top": null,
            "visibility": null,
            "width": null
          }
        },
        "5d3afe6996f64d77a1ecd22fe0c7c298": {
          "model_module": "@jupyter-widgets/controls",
          "model_name": "DescriptionStyleModel",
          "model_module_version": "1.5.0",
          "state": {
            "_model_module": "@jupyter-widgets/controls",
            "_model_module_version": "1.5.0",
            "_model_name": "DescriptionStyleModel",
            "_view_count": null,
            "_view_module": "@jupyter-widgets/base",
            "_view_module_version": "1.2.0",
            "_view_name": "StyleView",
            "description_width": ""
          }
        },
        "917c554348d34c26b5a2682fecb80b00": {
          "model_module": "@jupyter-widgets/base",
          "model_name": "LayoutModel",
          "model_module_version": "1.2.0",
          "state": {
            "_model_module": "@jupyter-widgets/base",
            "_model_module_version": "1.2.0",
            "_model_name": "LayoutModel",
            "_view_count": null,
            "_view_module": "@jupyter-widgets/base",
            "_view_module_version": "1.2.0",
            "_view_name": "LayoutView",
            "align_content": null,
            "align_items": null,
            "align_self": null,
            "border": null,
            "bottom": null,
            "display": null,
            "flex": null,
            "flex_flow": null,
            "grid_area": null,
            "grid_auto_columns": null,
            "grid_auto_flow": null,
            "grid_auto_rows": null,
            "grid_column": null,
            "grid_gap": null,
            "grid_row": null,
            "grid_template_areas": null,
            "grid_template_columns": null,
            "grid_template_rows": null,
            "height": null,
            "justify_content": null,
            "justify_items": null,
            "left": null,
            "margin": null,
            "max_height": null,
            "max_width": null,
            "min_height": null,
            "min_width": null,
            "object_fit": null,
            "object_position": null,
            "order": null,
            "overflow": null,
            "overflow_x": null,
            "overflow_y": null,
            "padding": null,
            "right": null,
            "top": null,
            "visibility": null,
            "width": null
          }
        },
        "c6621eae9fab4163bfc070d4d17c1b21": {
          "model_module": "@jupyter-widgets/controls",
          "model_name": "ProgressStyleModel",
          "model_module_version": "1.5.0",
          "state": {
            "_model_module": "@jupyter-widgets/controls",
            "_model_module_version": "1.5.0",
            "_model_name": "ProgressStyleModel",
            "_view_count": null,
            "_view_module": "@jupyter-widgets/base",
            "_view_module_version": "1.2.0",
            "_view_name": "StyleView",
            "bar_color": null,
            "description_width": ""
          }
        },
        "fc5105f87b864e7d91ffc65c225476e4": {
          "model_module": "@jupyter-widgets/base",
          "model_name": "LayoutModel",
          "model_module_version": "1.2.0",
          "state": {
            "_model_module": "@jupyter-widgets/base",
            "_model_module_version": "1.2.0",
            "_model_name": "LayoutModel",
            "_view_count": null,
            "_view_module": "@jupyter-widgets/base",
            "_view_module_version": "1.2.0",
            "_view_name": "LayoutView",
            "align_content": null,
            "align_items": null,
            "align_self": null,
            "border": null,
            "bottom": null,
            "display": null,
            "flex": null,
            "flex_flow": null,
            "grid_area": null,
            "grid_auto_columns": null,
            "grid_auto_flow": null,
            "grid_auto_rows": null,
            "grid_column": null,
            "grid_gap": null,
            "grid_row": null,
            "grid_template_areas": null,
            "grid_template_columns": null,
            "grid_template_rows": null,
            "height": null,
            "justify_content": null,
            "justify_items": null,
            "left": null,
            "margin": null,
            "max_height": null,
            "max_width": null,
            "min_height": null,
            "min_width": null,
            "object_fit": null,
            "object_position": null,
            "order": null,
            "overflow": null,
            "overflow_x": null,
            "overflow_y": null,
            "padding": null,
            "right": null,
            "top": null,
            "visibility": null,
            "width": null
          }
        },
        "8510d828bfad4547b3263218e9945955": {
          "model_module": "@jupyter-widgets/controls",
          "model_name": "DescriptionStyleModel",
          "model_module_version": "1.5.0",
          "state": {
            "_model_module": "@jupyter-widgets/controls",
            "_model_module_version": "1.5.0",
            "_model_name": "DescriptionStyleModel",
            "_view_count": null,
            "_view_module": "@jupyter-widgets/base",
            "_view_module_version": "1.2.0",
            "_view_name": "StyleView",
            "description_width": ""
          }
        },
        "12efe31f10a745e2ac9639ba05603160": {
          "model_module": "@jupyter-widgets/controls",
          "model_name": "HBoxModel",
          "model_module_version": "1.5.0",
          "state": {
            "_dom_classes": [],
            "_model_module": "@jupyter-widgets/controls",
            "_model_module_version": "1.5.0",
            "_model_name": "HBoxModel",
            "_view_count": null,
            "_view_module": "@jupyter-widgets/controls",
            "_view_module_version": "1.5.0",
            "_view_name": "HBoxView",
            "box_style": "",
            "children": [
              "IPY_MODEL_ec6a019a8e924a20939baf86a41c7c22",
              "IPY_MODEL_a00b3b782d0d42eeaffda40eacdd6baf",
              "IPY_MODEL_765bf5a372b54db38a959cf02d25f572"
            ],
            "layout": "IPY_MODEL_6a85b630bca944e584f7f3e6c18d34d6"
          }
        },
        "ec6a019a8e924a20939baf86a41c7c22": {
          "model_module": "@jupyter-widgets/controls",
          "model_name": "HTMLModel",
          "model_module_version": "1.5.0",
          "state": {
            "_dom_classes": [],
            "_model_module": "@jupyter-widgets/controls",
            "_model_module_version": "1.5.0",
            "_model_name": "HTMLModel",
            "_view_count": null,
            "_view_module": "@jupyter-widgets/controls",
            "_view_module_version": "1.5.0",
            "_view_name": "HTMLView",
            "description": "",
            "description_tooltip": null,
            "layout": "IPY_MODEL_ad6cdc53cd7b406f927e8ae78ea94fd2",
            "placeholder": "​",
            "style": "IPY_MODEL_9d562b88d7784d36b9da55622f98d2ec",
            "value": "model.safetensors: 100%"
          }
        },
        "a00b3b782d0d42eeaffda40eacdd6baf": {
          "model_module": "@jupyter-widgets/controls",
          "model_name": "FloatProgressModel",
          "model_module_version": "1.5.0",
          "state": {
            "_dom_classes": [],
            "_model_module": "@jupyter-widgets/controls",
            "_model_module_version": "1.5.0",
            "_model_name": "FloatProgressModel",
            "_view_count": null,
            "_view_module": "@jupyter-widgets/controls",
            "_view_module_version": "1.5.0",
            "_view_name": "ProgressView",
            "bar_style": "success",
            "description": "",
            "description_tooltip": null,
            "layout": "IPY_MODEL_85e62f2afaf74202b7b8be73de437a10",
            "max": 440449768,
            "min": 0,
            "orientation": "horizontal",
            "style": "IPY_MODEL_49d9fc14c6d54d838204bc69c7035cf1",
            "value": 440449768
          }
        },
        "765bf5a372b54db38a959cf02d25f572": {
          "model_module": "@jupyter-widgets/controls",
          "model_name": "HTMLModel",
          "model_module_version": "1.5.0",
          "state": {
            "_dom_classes": [],
            "_model_module": "@jupyter-widgets/controls",
            "_model_module_version": "1.5.0",
            "_model_name": "HTMLModel",
            "_view_count": null,
            "_view_module": "@jupyter-widgets/controls",
            "_view_module_version": "1.5.0",
            "_view_name": "HTMLView",
            "description": "",
            "description_tooltip": null,
            "layout": "IPY_MODEL_007bd55ba7ca4008b1008765f6b58fa0",
            "placeholder": "​",
            "style": "IPY_MODEL_407ffc06887b457f9345769464f86182",
            "value": " 440M/440M [00:07&lt;00:00, 63.3MB/s]"
          }
        },
        "6a85b630bca944e584f7f3e6c18d34d6": {
          "model_module": "@jupyter-widgets/base",
          "model_name": "LayoutModel",
          "model_module_version": "1.2.0",
          "state": {
            "_model_module": "@jupyter-widgets/base",
            "_model_module_version": "1.2.0",
            "_model_name": "LayoutModel",
            "_view_count": null,
            "_view_module": "@jupyter-widgets/base",
            "_view_module_version": "1.2.0",
            "_view_name": "LayoutView",
            "align_content": null,
            "align_items": null,
            "align_self": null,
            "border": null,
            "bottom": null,
            "display": null,
            "flex": null,
            "flex_flow": null,
            "grid_area": null,
            "grid_auto_columns": null,
            "grid_auto_flow": null,
            "grid_auto_rows": null,
            "grid_column": null,
            "grid_gap": null,
            "grid_row": null,
            "grid_template_areas": null,
            "grid_template_columns": null,
            "grid_template_rows": null,
            "height": null,
            "justify_content": null,
            "justify_items": null,
            "left": null,
            "margin": null,
            "max_height": null,
            "max_width": null,
            "min_height": null,
            "min_width": null,
            "object_fit": null,
            "object_position": null,
            "order": null,
            "overflow": null,
            "overflow_x": null,
            "overflow_y": null,
            "padding": null,
            "right": null,
            "top": null,
            "visibility": null,
            "width": null
          }
        },
        "ad6cdc53cd7b406f927e8ae78ea94fd2": {
          "model_module": "@jupyter-widgets/base",
          "model_name": "LayoutModel",
          "model_module_version": "1.2.0",
          "state": {
            "_model_module": "@jupyter-widgets/base",
            "_model_module_version": "1.2.0",
            "_model_name": "LayoutModel",
            "_view_count": null,
            "_view_module": "@jupyter-widgets/base",
            "_view_module_version": "1.2.0",
            "_view_name": "LayoutView",
            "align_content": null,
            "align_items": null,
            "align_self": null,
            "border": null,
            "bottom": null,
            "display": null,
            "flex": null,
            "flex_flow": null,
            "grid_area": null,
            "grid_auto_columns": null,
            "grid_auto_flow": null,
            "grid_auto_rows": null,
            "grid_column": null,
            "grid_gap": null,
            "grid_row": null,
            "grid_template_areas": null,
            "grid_template_columns": null,
            "grid_template_rows": null,
            "height": null,
            "justify_content": null,
            "justify_items": null,
            "left": null,
            "margin": null,
            "max_height": null,
            "max_width": null,
            "min_height": null,
            "min_width": null,
            "object_fit": null,
            "object_position": null,
            "order": null,
            "overflow": null,
            "overflow_x": null,
            "overflow_y": null,
            "padding": null,
            "right": null,
            "top": null,
            "visibility": null,
            "width": null
          }
        },
        "9d562b88d7784d36b9da55622f98d2ec": {
          "model_module": "@jupyter-widgets/controls",
          "model_name": "DescriptionStyleModel",
          "model_module_version": "1.5.0",
          "state": {
            "_model_module": "@jupyter-widgets/controls",
            "_model_module_version": "1.5.0",
            "_model_name": "DescriptionStyleModel",
            "_view_count": null,
            "_view_module": "@jupyter-widgets/base",
            "_view_module_version": "1.2.0",
            "_view_name": "StyleView",
            "description_width": ""
          }
        },
        "85e62f2afaf74202b7b8be73de437a10": {
          "model_module": "@jupyter-widgets/base",
          "model_name": "LayoutModel",
          "model_module_version": "1.2.0",
          "state": {
            "_model_module": "@jupyter-widgets/base",
            "_model_module_version": "1.2.0",
            "_model_name": "LayoutModel",
            "_view_count": null,
            "_view_module": "@jupyter-widgets/base",
            "_view_module_version": "1.2.0",
            "_view_name": "LayoutView",
            "align_content": null,
            "align_items": null,
            "align_self": null,
            "border": null,
            "bottom": null,
            "display": null,
            "flex": null,
            "flex_flow": null,
            "grid_area": null,
            "grid_auto_columns": null,
            "grid_auto_flow": null,
            "grid_auto_rows": null,
            "grid_column": null,
            "grid_gap": null,
            "grid_row": null,
            "grid_template_areas": null,
            "grid_template_columns": null,
            "grid_template_rows": null,
            "height": null,
            "justify_content": null,
            "justify_items": null,
            "left": null,
            "margin": null,
            "max_height": null,
            "max_width": null,
            "min_height": null,
            "min_width": null,
            "object_fit": null,
            "object_position": null,
            "order": null,
            "overflow": null,
            "overflow_x": null,
            "overflow_y": null,
            "padding": null,
            "right": null,
            "top": null,
            "visibility": null,
            "width": null
          }
        },
        "49d9fc14c6d54d838204bc69c7035cf1": {
          "model_module": "@jupyter-widgets/controls",
          "model_name": "ProgressStyleModel",
          "model_module_version": "1.5.0",
          "state": {
            "_model_module": "@jupyter-widgets/controls",
            "_model_module_version": "1.5.0",
            "_model_name": "ProgressStyleModel",
            "_view_count": null,
            "_view_module": "@jupyter-widgets/base",
            "_view_module_version": "1.2.0",
            "_view_name": "StyleView",
            "bar_color": null,
            "description_width": ""
          }
        },
        "007bd55ba7ca4008b1008765f6b58fa0": {
          "model_module": "@jupyter-widgets/base",
          "model_name": "LayoutModel",
          "model_module_version": "1.2.0",
          "state": {
            "_model_module": "@jupyter-widgets/base",
            "_model_module_version": "1.2.0",
            "_model_name": "LayoutModel",
            "_view_count": null,
            "_view_module": "@jupyter-widgets/base",
            "_view_module_version": "1.2.0",
            "_view_name": "LayoutView",
            "align_content": null,
            "align_items": null,
            "align_self": null,
            "border": null,
            "bottom": null,
            "display": null,
            "flex": null,
            "flex_flow": null,
            "grid_area": null,
            "grid_auto_columns": null,
            "grid_auto_flow": null,
            "grid_auto_rows": null,
            "grid_column": null,
            "grid_gap": null,
            "grid_row": null,
            "grid_template_areas": null,
            "grid_template_columns": null,
            "grid_template_rows": null,
            "height": null,
            "justify_content": null,
            "justify_items": null,
            "left": null,
            "margin": null,
            "max_height": null,
            "max_width": null,
            "min_height": null,
            "min_width": null,
            "object_fit": null,
            "object_position": null,
            "order": null,
            "overflow": null,
            "overflow_x": null,
            "overflow_y": null,
            "padding": null,
            "right": null,
            "top": null,
            "visibility": null,
            "width": null
          }
        },
        "407ffc06887b457f9345769464f86182": {
          "model_module": "@jupyter-widgets/controls",
          "model_name": "DescriptionStyleModel",
          "model_module_version": "1.5.0",
          "state": {
            "_model_module": "@jupyter-widgets/controls",
            "_model_module_version": "1.5.0",
            "_model_name": "DescriptionStyleModel",
            "_view_count": null,
            "_view_module": "@jupyter-widgets/base",
            "_view_module_version": "1.2.0",
            "_view_name": "StyleView",
            "description_width": ""
          }
        }
      }
    }
  },
  "nbformat": 4,
  "nbformat_minor": 0
}